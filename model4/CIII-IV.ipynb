{
 "cells": [
  {
   "cell_type": "code",
   "execution_count": 2,
   "metadata": {},
   "outputs": [],
   "source": [
    "import pandas as pd\n",
    "import numpy as np\n",
    "make='model4'"
   ]
  },
  {
   "cell_type": "code",
   "execution_count": 97,
   "metadata": {},
   "outputs": [],
   "source": [
    "#returns ovr table with Temperature, Htot, hydrogen density, e density, and OVI density\n",
    "\n",
    "vari='.ovr'\n",
    "table=pd.read_csv('{0}{1}'.format(make, vari),delimiter='\t')\n",
    "ovr=table.loc[:,['#depth','Te','Htot','hden','eden','O3']]\n",
    "Temp=np.log10(ovr.loc[0,\"Te\"])\n",
    "#ovr"
   ]
  },
  {
   "cell_type": "code",
   "execution_count": 98,
   "metadata": {},
   "outputs": [],
   "source": [
    "#returns emis table with Emissivity of H 1 4861.33A, H 1 6562.81A, O 6 1031.00A, O 6 1037.62A\n",
    "\n",
    "vari='.emis'\n",
    "emis=pd.read_csv('{0}{1}'.format(make, vari),delimiter='\t')\n",
    "#emis.columns=['#depth','H1-4861.33A', 'H1-6562.81A', 'O6-1031.91A','O6-1037.62A']\n",
    "emis.columns=['#depth','H1-4861.33A', 'H1-6562.81A','C3-977.762A', 'C4-1548.19A', 'C4-1551.10A']\n",
    "\n",
    "#isolates the 1031 and 1037 lines as independent tables\n",
    "line977= emis.loc[:,'C3-977.762A'] \n",
    "line1548= emis.loc[:,'C4-1548.19A']\n",
    "line1551= emis.loc[:,'C4-1551.10A']\n",
    "\n",
    "\n",
    "#line4958\n",
    "#line5006\n",
    "#emis"
   ]
  },
  {
   "cell_type": "code",
   "execution_count": 99,
   "metadata": {},
   "outputs": [],
   "source": [
    "#returns eleH table with H\tH+\tH2 probabilites for each zone\n",
    "\n",
    "vari='.ele_H'\n",
    "eleH=pd.read_csv('{0}{1}'.format(make, vari),delimiter='\t')\n",
    "#print(eleH)\n",
    "#returns eleO table with O\tO+\tO+2\tO+3\tO+4\tO+5\tO+6\tO+7\tO+8\tO[1]\tO[2]\tO[3] probabilites for each zone\n",
    "vari='.ele_C'\n",
    "eleC=pd.read_csv('{0}{1}'.format(make,vari),delimiter='\t')\n",
    "#eleO\n",
    "\n",
    "#returns table OVI_prob with OVI probabilites for each zone\n",
    "\n",
    "CIII_prob = eleC.loc[:,['#depth', 'C+2']]\n",
    "CIV_prob = eleC.loc[:,['#depth', 'C+3']]\n",
    "\n",
    "#OIII_prob"
   ]
  },
  {
   "cell_type": "code",
   "execution_count": 100,
   "metadata": {},
   "outputs": [],
   "source": [
    "C3frac=np.average(CIII_prob.loc[:,'C+2'].values)\n",
    "C4frac=np.average(CIV_prob.loc[:,'C+3'].values)\n",
    "eden=np.average(ovr.loc[:,'eden'].values)\n",
    "emis977=np.average(line977.values)\n",
    "emis1548=np.average(line1548.values)\n",
    "emis1551=np.average(line1551.values)\n",
    "hden=np.average(ovr.loc[:,'hden'].values)"
   ]
  },
  {
   "cell_type": "code",
   "execution_count": 101,
   "metadata": {},
   "outputs": [],
   "source": [
    "SimnDatC3=[hden,eden,C3frac,emis977]\n",
    "SimnDatC4=[hden,eden,C4frac,emis1548,emis1551]\n",
    "C3matrix={'H Density Log /cm^3':hden,\n",
    "          'e Density Log /cm^3':eden,\n",
    "          'CIII Probability':C3frac,\n",
    "          'CIII 977 Emis':emis977}\n",
    "C4matrix={'H Density Log /cm^3':hden,\n",
    "          'e Density Log /cm^3':eden,\n",
    "          'CIV Probability':C4frac,\n",
    "          'CIV 1548 Emis':emis1548,\n",
    "          'CIV 1551 Emis':emis1551}"
   ]
  },
  {
   "cell_type": "code",
   "execution_count": 16,
   "metadata": {},
   "outputs": [],
   "source": [
    "C3labels=np.array(['H Density Log /cm^3','e Density Log /cm^3','CIII Probability','CIII 977 Emis'])\n",
    "C4labels=np.array(['H Density Log /cm^3','e Density Log /cm^3','CIV Probability','CIV 1548 Emis','CIV 1551 Emis'])"
   ]
  },
  {
   "cell_type": "code",
   "execution_count": 102,
   "metadata": {},
   "outputs": [],
   "source": [
    "location=location+1\n",
    "C3_Table.insert(location,f\"Temp:1e{Temp:1.1f} K\",SimnDatC3)\n",
    "C4_Table.insert(location,f\"Temp:1e{Temp:1.1f} K\",SimnDatC4)"
   ]
  },
  {
   "cell_type": "code",
   "execution_count": 103,
   "metadata": {},
   "outputs": [
    {
     "data": {
      "text/html": [
       "<div>\n",
       "<style scoped>\n",
       "    .dataframe tbody tr th:only-of-type {\n",
       "        vertical-align: middle;\n",
       "    }\n",
       "\n",
       "    .dataframe tbody tr th {\n",
       "        vertical-align: top;\n",
       "    }\n",
       "\n",
       "    .dataframe thead th {\n",
       "        text-align: right;\n",
       "    }\n",
       "</style>\n",
       "<table border=\"1\" class=\"dataframe\">\n",
       "  <thead>\n",
       "    <tr style=\"text-align: right;\">\n",
       "      <th></th>\n",
       "      <th>Temp:1e4.0 K</th>\n",
       "      <th>Temp:1e4.5 K</th>\n",
       "      <th>Temp:1e5.0 K</th>\n",
       "      <th>Temp:1e5.5 K</th>\n",
       "      <th>Temp:1e6.0 K</th>\n",
       "    </tr>\n",
       "  </thead>\n",
       "  <tbody>\n",
       "    <tr>\n",
       "      <th>H Density Log /cm^3</th>\n",
       "      <td>3.162300e-03</td>\n",
       "      <td>3.162300e-03</td>\n",
       "      <td>3.162300e-03</td>\n",
       "      <td>3.162300e-03</td>\n",
       "      <td>3.162300e-03</td>\n",
       "    </tr>\n",
       "    <tr>\n",
       "      <th>e Density Log /cm^3</th>\n",
       "      <td>3.211145e-03</td>\n",
       "      <td>3.470518e-03</td>\n",
       "      <td>3.779224e-03</td>\n",
       "      <td>3.796200e-03</td>\n",
       "      <td>3.796791e-03</td>\n",
       "    </tr>\n",
       "    <tr>\n",
       "      <th>CIII Probability</th>\n",
       "      <td>3.100000e-01</td>\n",
       "      <td>2.810000e-01</td>\n",
       "      <td>2.450000e-01</td>\n",
       "      <td>2.870000e-05</td>\n",
       "      <td>8.850000e-08</td>\n",
       "    </tr>\n",
       "    <tr>\n",
       "      <th>CIII 977 Emis</th>\n",
       "      <td>4.917242e-32</td>\n",
       "      <td>2.493724e-30</td>\n",
       "      <td>4.187767e-29</td>\n",
       "      <td>9.702297e-33</td>\n",
       "      <td>3.325100e-35</td>\n",
       "    </tr>\n",
       "  </tbody>\n",
       "</table>\n",
       "</div>"
      ],
      "text/plain": [
       "                     Temp:1e4.0 K  Temp:1e4.5 K  Temp:1e5.0 K  Temp:1e5.5 K  \\\n",
       "H Density Log /cm^3  3.162300e-03  3.162300e-03  3.162300e-03  3.162300e-03   \n",
       "e Density Log /cm^3  3.211145e-03  3.470518e-03  3.779224e-03  3.796200e-03   \n",
       "CIII Probability     3.100000e-01  2.810000e-01  2.450000e-01  2.870000e-05   \n",
       "CIII 977 Emis        4.917242e-32  2.493724e-30  4.187767e-29  9.702297e-33   \n",
       "\n",
       "                     Temp:1e6.0 K  \n",
       "H Density Log /cm^3  3.162300e-03  \n",
       "e Density Log /cm^3  3.796791e-03  \n",
       "CIII Probability     8.850000e-08  \n",
       "CIII 977 Emis        3.325100e-35  "
      ]
     },
     "execution_count": 103,
     "metadata": {},
     "output_type": "execute_result"
    }
   ],
   "source": [
    "C3_Table #3.0 [factor=-2] on"
   ]
  },
  {
   "cell_type": "code",
   "execution_count": 104,
   "metadata": {},
   "outputs": [
    {
     "data": {
      "text/html": [
       "<div>\n",
       "<style scoped>\n",
       "    .dataframe tbody tr th:only-of-type {\n",
       "        vertical-align: middle;\n",
       "    }\n",
       "\n",
       "    .dataframe tbody tr th {\n",
       "        vertical-align: top;\n",
       "    }\n",
       "\n",
       "    .dataframe thead th {\n",
       "        text-align: right;\n",
       "    }\n",
       "</style>\n",
       "<table border=\"1\" class=\"dataframe\">\n",
       "  <thead>\n",
       "    <tr style=\"text-align: right;\">\n",
       "      <th></th>\n",
       "      <th>Temp:1e4.0 K</th>\n",
       "      <th>Temp:1e4.5 K</th>\n",
       "      <th>Temp:1e5.0 K</th>\n",
       "      <th>Temp:1e5.5 K</th>\n",
       "      <th>Temp:1e6.0 K</th>\n",
       "    </tr>\n",
       "  </thead>\n",
       "  <tbody>\n",
       "    <tr>\n",
       "      <th>H Density Log /cm^3</th>\n",
       "      <td>3.162300e-03</td>\n",
       "      <td>3.162300e-03</td>\n",
       "      <td>3.162300e-03</td>\n",
       "      <td>3.162300e-03</td>\n",
       "      <td>3.162300e-03</td>\n",
       "    </tr>\n",
       "    <tr>\n",
       "      <th>e Density Log /cm^3</th>\n",
       "      <td>3.211145e-03</td>\n",
       "      <td>3.470518e-03</td>\n",
       "      <td>3.779224e-03</td>\n",
       "      <td>3.796200e-03</td>\n",
       "      <td>3.796791e-03</td>\n",
       "    </tr>\n",
       "    <tr>\n",
       "      <th>CIV Probability</th>\n",
       "      <td>2.110000e-04</td>\n",
       "      <td>9.544848e-04</td>\n",
       "      <td>1.980000e-01</td>\n",
       "      <td>2.740000e-03</td>\n",
       "      <td>1.570000e-04</td>\n",
       "    </tr>\n",
       "    <tr>\n",
       "      <th>CIV 1548 Emis</th>\n",
       "      <td>5.250918e-35</td>\n",
       "      <td>2.504297e-32</td>\n",
       "      <td>2.920927e-29</td>\n",
       "      <td>5.093900e-31</td>\n",
       "      <td>2.651697e-32</td>\n",
       "    </tr>\n",
       "    <tr>\n",
       "      <th>CIV 1551 Emis</th>\n",
       "      <td>2.641391e-35</td>\n",
       "      <td>1.255906e-32</td>\n",
       "      <td>1.458109e-29</td>\n",
       "      <td>2.539797e-31</td>\n",
       "      <td>1.325400e-32</td>\n",
       "    </tr>\n",
       "  </tbody>\n",
       "</table>\n",
       "</div>"
      ],
      "text/plain": [
       "                     Temp:1e4.0 K  Temp:1e4.5 K  Temp:1e5.0 K  Temp:1e5.5 K  \\\n",
       "H Density Log /cm^3  3.162300e-03  3.162300e-03  3.162300e-03  3.162300e-03   \n",
       "e Density Log /cm^3  3.211145e-03  3.470518e-03  3.779224e-03  3.796200e-03   \n",
       "CIV Probability      2.110000e-04  9.544848e-04  1.980000e-01  2.740000e-03   \n",
       "CIV 1548 Emis        5.250918e-35  2.504297e-32  2.920927e-29  5.093900e-31   \n",
       "CIV 1551 Emis        2.641391e-35  1.255906e-32  1.458109e-29  2.539797e-31   \n",
       "\n",
       "                     Temp:1e6.0 K  \n",
       "H Density Log /cm^3  3.162300e-03  \n",
       "e Density Log /cm^3  3.796791e-03  \n",
       "CIV Probability      1.570000e-04  \n",
       "CIV 1548 Emis        2.651697e-32  \n",
       "CIV 1551 Emis        1.325400e-32  "
      ]
     },
     "execution_count": 104,
     "metadata": {},
     "output_type": "execute_result"
    }
   ],
   "source": [
    "C4_Table"
   ]
  },
  {
   "cell_type": "code",
   "execution_count": null,
   "metadata": {},
   "outputs": [],
   "source": []
  },
  {
   "cell_type": "markdown",
   "metadata": {},
   "source": [
    "## Run once per line"
   ]
  },
  {
   "cell_type": "code",
   "execution_count": 60,
   "metadata": {},
   "outputs": [],
   "source": [
    "C3_Table=pd.DataFrame(data=C3matrix,index={f\"Temp:1e{Temp:1.1f} K\"}).transpose()\n",
    "C4_Table=pd.DataFrame(data=C4matrix,index={f\"Temp:1e{Temp:1.1f} K\"}).transpose()\n",
    "\n",
    "#meta.rename(index={'Temp'})\n"
   ]
  },
  {
   "cell_type": "code",
   "execution_count": 68,
   "metadata": {},
   "outputs": [],
   "source": [
    "location=0"
   ]
  },
  {
   "cell_type": "code",
   "execution_count": 19,
   "metadata": {},
   "outputs": [],
   "source": [
    "C3_Table=pd.read_csv('./DataTables/CIIITemp(3-7).csv').set_index(C3labels)\n",
    "C4_Table=pd.read_csv('./DataTables/CIVTemp(3-7).csv').set_index(C4labels)"
   ]
  },
  {
   "cell_type": "code",
   "execution_count": 60,
   "metadata": {},
   "outputs": [],
   "source": [
    "meta.to_csv('./OIII-DataTables/OIIITemp(3-7)hden(const).csv',index=True)"
   ]
  },
  {
   "cell_type": "code",
   "execution_count": 12,
   "metadata": {},
   "outputs": [],
   "source": [
    "def highlight_greaterthan(s,column):\n",
    "    is_max = pd.Series(data=False, index=s.index)\n",
    "    is_max[column] = s.loc[column] < 10**-10\n",
    "    return ['background-color: cyan' if is_max.any() else '' for v in is_max]"
   ]
  },
  {
   "cell_type": "code",
   "execution_count": 13,
   "metadata": {},
   "outputs": [
    {
     "data": {
      "text/html": [
       "<style  type=\"text/css\" >\n",
       "    #T_0fc763ee_d834_11eb_9fe6_acde48001122row3_col0 {\n",
       "            background-color:  cyan;\n",
       "        }    #T_0fc763ee_d834_11eb_9fe6_acde48001122row3_col1 {\n",
       "            background-color:  cyan;\n",
       "        }    #T_0fc763ee_d834_11eb_9fe6_acde48001122row3_col2 {\n",
       "            background-color:  cyan;\n",
       "        }    #T_0fc763ee_d834_11eb_9fe6_acde48001122row3_col3 {\n",
       "            background-color:  cyan;\n",
       "        }    #T_0fc763ee_d834_11eb_9fe6_acde48001122row3_col4 {\n",
       "            background-color:  cyan;\n",
       "        }</style><table id=\"T_0fc763ee_d834_11eb_9fe6_acde48001122\" ><thead>    <tr>        <th class=\"blank level0\" ></th>        <th class=\"col_heading level0 col0\" >Temp:1e4.0 K</th>        <th class=\"col_heading level0 col1\" >Temp:1e4.5 K</th>        <th class=\"col_heading level0 col2\" >Temp:1e5.0 K</th>        <th class=\"col_heading level0 col3\" >Temp:1e5.5 K</th>        <th class=\"col_heading level0 col4\" >Temp:1e6.0 K</th>    </tr></thead><tbody>\n",
       "                <tr>\n",
       "                        <th id=\"T_0fc763ee_d834_11eb_9fe6_acde48001122level0_row0\" class=\"row_heading level0 row0\" >H Density Log /cm^3</th>\n",
       "                        <td id=\"T_0fc763ee_d834_11eb_9fe6_acde48001122row0_col0\" class=\"data row0 col0\" >0.0031623</td>\n",
       "                        <td id=\"T_0fc763ee_d834_11eb_9fe6_acde48001122row0_col1\" class=\"data row0 col1\" >0.0031623</td>\n",
       "                        <td id=\"T_0fc763ee_d834_11eb_9fe6_acde48001122row0_col2\" class=\"data row0 col2\" >0.0031623</td>\n",
       "                        <td id=\"T_0fc763ee_d834_11eb_9fe6_acde48001122row0_col3\" class=\"data row0 col3\" >0.0031623</td>\n",
       "                        <td id=\"T_0fc763ee_d834_11eb_9fe6_acde48001122row0_col4\" class=\"data row0 col4\" >0.0031623</td>\n",
       "            </tr>\n",
       "            <tr>\n",
       "                        <th id=\"T_0fc763ee_d834_11eb_9fe6_acde48001122level0_row1\" class=\"row_heading level0 row1\" >e Density Log /cm^3</th>\n",
       "                        <td id=\"T_0fc763ee_d834_11eb_9fe6_acde48001122row1_col0\" class=\"data row1 col0\" >0.00321115</td>\n",
       "                        <td id=\"T_0fc763ee_d834_11eb_9fe6_acde48001122row1_col1\" class=\"data row1 col1\" >0.00347052</td>\n",
       "                        <td id=\"T_0fc763ee_d834_11eb_9fe6_acde48001122row1_col2\" class=\"data row1 col2\" >0.00377922</td>\n",
       "                        <td id=\"T_0fc763ee_d834_11eb_9fe6_acde48001122row1_col3\" class=\"data row1 col3\" >0.0037962</td>\n",
       "                        <td id=\"T_0fc763ee_d834_11eb_9fe6_acde48001122row1_col4\" class=\"data row1 col4\" >0.00379679</td>\n",
       "            </tr>\n",
       "            <tr>\n",
       "                        <th id=\"T_0fc763ee_d834_11eb_9fe6_acde48001122level0_row2\" class=\"row_heading level0 row2\" >CIII Probability</th>\n",
       "                        <td id=\"T_0fc763ee_d834_11eb_9fe6_acde48001122row2_col0\" class=\"data row2 col0\" >0.31</td>\n",
       "                        <td id=\"T_0fc763ee_d834_11eb_9fe6_acde48001122row2_col1\" class=\"data row2 col1\" >0.281</td>\n",
       "                        <td id=\"T_0fc763ee_d834_11eb_9fe6_acde48001122row2_col2\" class=\"data row2 col2\" >0.245</td>\n",
       "                        <td id=\"T_0fc763ee_d834_11eb_9fe6_acde48001122row2_col3\" class=\"data row2 col3\" >2.87e-05</td>\n",
       "                        <td id=\"T_0fc763ee_d834_11eb_9fe6_acde48001122row2_col4\" class=\"data row2 col4\" >8.85e-08</td>\n",
       "            </tr>\n",
       "            <tr>\n",
       "                        <th id=\"T_0fc763ee_d834_11eb_9fe6_acde48001122level0_row3\" class=\"row_heading level0 row3\" >CIII 977 Emis</th>\n",
       "                        <td id=\"T_0fc763ee_d834_11eb_9fe6_acde48001122row3_col0\" class=\"data row3 col0\" >4.91724e-32</td>\n",
       "                        <td id=\"T_0fc763ee_d834_11eb_9fe6_acde48001122row3_col1\" class=\"data row3 col1\" >2.49372e-30</td>\n",
       "                        <td id=\"T_0fc763ee_d834_11eb_9fe6_acde48001122row3_col2\" class=\"data row3 col2\" >4.18777e-29</td>\n",
       "                        <td id=\"T_0fc763ee_d834_11eb_9fe6_acde48001122row3_col3\" class=\"data row3 col3\" >9.7023e-33</td>\n",
       "                        <td id=\"T_0fc763ee_d834_11eb_9fe6_acde48001122row3_col4\" class=\"data row3 col4\" >3.3251e-35</td>\n",
       "            </tr>\n",
       "    </tbody></table>"
      ],
      "text/plain": [
       "<pandas.io.formats.style.Styler at 0x7fef56f686d0>"
      ]
     },
     "execution_count": 13,
     "metadata": {},
     "output_type": "execute_result"
    }
   ],
   "source": [
    "C3_Table.style.apply(highlight_greaterthan,column='Temp:1e4.5 K', axis=1)"
   ]
  },
  {
   "cell_type": "code",
   "execution_count": 14,
   "metadata": {},
   "outputs": [
    {
     "data": {
      "text/html": [
       "<style  type=\"text/css\" >\n",
       "    #T_10284f56_d834_11eb_9fe6_acde48001122row3_col0 {\n",
       "            background-color:  cyan;\n",
       "        }    #T_10284f56_d834_11eb_9fe6_acde48001122row3_col1 {\n",
       "            background-color:  cyan;\n",
       "        }    #T_10284f56_d834_11eb_9fe6_acde48001122row3_col2 {\n",
       "            background-color:  cyan;\n",
       "        }    #T_10284f56_d834_11eb_9fe6_acde48001122row3_col3 {\n",
       "            background-color:  cyan;\n",
       "        }    #T_10284f56_d834_11eb_9fe6_acde48001122row3_col4 {\n",
       "            background-color:  cyan;\n",
       "        }    #T_10284f56_d834_11eb_9fe6_acde48001122row4_col0 {\n",
       "            background-color:  cyan;\n",
       "        }    #T_10284f56_d834_11eb_9fe6_acde48001122row4_col1 {\n",
       "            background-color:  cyan;\n",
       "        }    #T_10284f56_d834_11eb_9fe6_acde48001122row4_col2 {\n",
       "            background-color:  cyan;\n",
       "        }    #T_10284f56_d834_11eb_9fe6_acde48001122row4_col3 {\n",
       "            background-color:  cyan;\n",
       "        }    #T_10284f56_d834_11eb_9fe6_acde48001122row4_col4 {\n",
       "            background-color:  cyan;\n",
       "        }</style><table id=\"T_10284f56_d834_11eb_9fe6_acde48001122\" ><thead>    <tr>        <th class=\"blank level0\" ></th>        <th class=\"col_heading level0 col0\" >Temp:1e4.0 K</th>        <th class=\"col_heading level0 col1\" >Temp:1e4.5 K</th>        <th class=\"col_heading level0 col2\" >Temp:1e5.0 K</th>        <th class=\"col_heading level0 col3\" >Temp:1e5.5 K</th>        <th class=\"col_heading level0 col4\" >Temp:1e6.0 K</th>    </tr></thead><tbody>\n",
       "                <tr>\n",
       "                        <th id=\"T_10284f56_d834_11eb_9fe6_acde48001122level0_row0\" class=\"row_heading level0 row0\" >H Density Log /cm^3</th>\n",
       "                        <td id=\"T_10284f56_d834_11eb_9fe6_acde48001122row0_col0\" class=\"data row0 col0\" >0.0031623</td>\n",
       "                        <td id=\"T_10284f56_d834_11eb_9fe6_acde48001122row0_col1\" class=\"data row0 col1\" >0.0031623</td>\n",
       "                        <td id=\"T_10284f56_d834_11eb_9fe6_acde48001122row0_col2\" class=\"data row0 col2\" >0.0031623</td>\n",
       "                        <td id=\"T_10284f56_d834_11eb_9fe6_acde48001122row0_col3\" class=\"data row0 col3\" >0.0031623</td>\n",
       "                        <td id=\"T_10284f56_d834_11eb_9fe6_acde48001122row0_col4\" class=\"data row0 col4\" >0.0031623</td>\n",
       "            </tr>\n",
       "            <tr>\n",
       "                        <th id=\"T_10284f56_d834_11eb_9fe6_acde48001122level0_row1\" class=\"row_heading level0 row1\" >e Density Log /cm^3</th>\n",
       "                        <td id=\"T_10284f56_d834_11eb_9fe6_acde48001122row1_col0\" class=\"data row1 col0\" >0.00321115</td>\n",
       "                        <td id=\"T_10284f56_d834_11eb_9fe6_acde48001122row1_col1\" class=\"data row1 col1\" >0.00347052</td>\n",
       "                        <td id=\"T_10284f56_d834_11eb_9fe6_acde48001122row1_col2\" class=\"data row1 col2\" >0.00377922</td>\n",
       "                        <td id=\"T_10284f56_d834_11eb_9fe6_acde48001122row1_col3\" class=\"data row1 col3\" >0.0037962</td>\n",
       "                        <td id=\"T_10284f56_d834_11eb_9fe6_acde48001122row1_col4\" class=\"data row1 col4\" >0.00379679</td>\n",
       "            </tr>\n",
       "            <tr>\n",
       "                        <th id=\"T_10284f56_d834_11eb_9fe6_acde48001122level0_row2\" class=\"row_heading level0 row2\" >CIII Probability</th>\n",
       "                        <td id=\"T_10284f56_d834_11eb_9fe6_acde48001122row2_col0\" class=\"data row2 col0\" >0.000211</td>\n",
       "                        <td id=\"T_10284f56_d834_11eb_9fe6_acde48001122row2_col1\" class=\"data row2 col1\" >0.000954485</td>\n",
       "                        <td id=\"T_10284f56_d834_11eb_9fe6_acde48001122row2_col2\" class=\"data row2 col2\" >0.198</td>\n",
       "                        <td id=\"T_10284f56_d834_11eb_9fe6_acde48001122row2_col3\" class=\"data row2 col3\" >0.00274</td>\n",
       "                        <td id=\"T_10284f56_d834_11eb_9fe6_acde48001122row2_col4\" class=\"data row2 col4\" >0.000157</td>\n",
       "            </tr>\n",
       "            <tr>\n",
       "                        <th id=\"T_10284f56_d834_11eb_9fe6_acde48001122level0_row3\" class=\"row_heading level0 row3\" >CIV 1548 Emis</th>\n",
       "                        <td id=\"T_10284f56_d834_11eb_9fe6_acde48001122row3_col0\" class=\"data row3 col0\" >5.25092e-35</td>\n",
       "                        <td id=\"T_10284f56_d834_11eb_9fe6_acde48001122row3_col1\" class=\"data row3 col1\" >2.5043e-32</td>\n",
       "                        <td id=\"T_10284f56_d834_11eb_9fe6_acde48001122row3_col2\" class=\"data row3 col2\" >2.92093e-29</td>\n",
       "                        <td id=\"T_10284f56_d834_11eb_9fe6_acde48001122row3_col3\" class=\"data row3 col3\" >5.0939e-31</td>\n",
       "                        <td id=\"T_10284f56_d834_11eb_9fe6_acde48001122row3_col4\" class=\"data row3 col4\" >2.6517e-32</td>\n",
       "            </tr>\n",
       "            <tr>\n",
       "                        <th id=\"T_10284f56_d834_11eb_9fe6_acde48001122level0_row4\" class=\"row_heading level0 row4\" >CIV 1551 Emis</th>\n",
       "                        <td id=\"T_10284f56_d834_11eb_9fe6_acde48001122row4_col0\" class=\"data row4 col0\" >2.64139e-35</td>\n",
       "                        <td id=\"T_10284f56_d834_11eb_9fe6_acde48001122row4_col1\" class=\"data row4 col1\" >1.25591e-32</td>\n",
       "                        <td id=\"T_10284f56_d834_11eb_9fe6_acde48001122row4_col2\" class=\"data row4 col2\" >1.45811e-29</td>\n",
       "                        <td id=\"T_10284f56_d834_11eb_9fe6_acde48001122row4_col3\" class=\"data row4 col3\" >2.5398e-31</td>\n",
       "                        <td id=\"T_10284f56_d834_11eb_9fe6_acde48001122row4_col4\" class=\"data row4 col4\" >1.3254e-32</td>\n",
       "            </tr>\n",
       "    </tbody></table>"
      ],
      "text/plain": [
       "<pandas.io.formats.style.Styler at 0x7fef57b3b450>"
      ]
     },
     "execution_count": 14,
     "metadata": {},
     "output_type": "execute_result"
    }
   ],
   "source": [
    "C4_Table.style.apply(highlight_greaterthan,column='Temp:1e4.5 K', axis=1)"
   ]
  },
  {
   "cell_type": "code",
   "execution_count": 23,
   "metadata": {},
   "outputs": [
    {
     "ename": "NameError",
     "evalue": "name 'OIIIfracs' is not defined",
     "output_type": "error",
     "traceback": [
      "\u001b[0;31m------------------------------------------------------------\u001b[0m",
      "\u001b[0;31mNameError\u001b[0m                  Traceback (most recent call last)",
      "\u001b[0;32m<ipython-input-23-18d5b3093dbe>\u001b[0m in \u001b[0;36m<module>\u001b[0;34m\u001b[0m\n\u001b[1;32m     17\u001b[0m     \u001b[0mhDen\u001b[0m\u001b[0;34m=\u001b[0m\u001b[0;36m3.162300e-03\u001b[0m\u001b[0;34m\u001b[0m\u001b[0;34m\u001b[0m\u001b[0m\n\u001b[1;32m     18\u001b[0m \u001b[0;34m\u001b[0m\u001b[0m\n\u001b[0;32m---> 19\u001b[0;31m     \u001b[0mnOIII\u001b[0m\u001b[0;34m=\u001b[0m\u001b[0mn_ion\u001b[0m\u001b[0;34m(\u001b[0m\u001b[0;34m'O'\u001b[0m\u001b[0;34m,\u001b[0m\u001b[0mhDen\u001b[0m\u001b[0;34m,\u001b[0m\u001b[0mOIIIfracs\u001b[0m\u001b[0;34m[\u001b[0m\u001b[0mi\u001b[0m\u001b[0;34m]\u001b[0m\u001b[0;34m)\u001b[0m\u001b[0;34m\u001b[0m\u001b[0;34m\u001b[0m\u001b[0m\n\u001b[0m\u001b[1;32m     20\u001b[0m     \u001b[0mcalc\u001b[0m\u001b[0;34m=\u001b[0m\u001b[0mEmist\u001b[0m\u001b[0;34m(\u001b[0m\u001b[0medens\u001b[0m\u001b[0;34m[\u001b[0m\u001b[0mi\u001b[0m\u001b[0;34m]\u001b[0m\u001b[0;34m,\u001b[0m\u001b[0mTemperature\u001b[0m\u001b[0;34m[\u001b[0m\u001b[0mi\u001b[0m\u001b[0;34m]\u001b[0m\u001b[0;34m,\u001b[0m\u001b[0mYcalOIII\u001b[0m\u001b[0;34m,\u001b[0m\u001b[0mEOIII2P3P\u001b[0m\u001b[0;34m,\u001b[0m\u001b[0mgOIIIground2320\u001b[0m\u001b[0;34m,\u001b[0m\u001b[0mnOIII\u001b[0m\u001b[0;34m)\u001b[0m\u001b[0;34m\u001b[0m\u001b[0;34m\u001b[0m\u001b[0m\n\u001b[1;32m     21\u001b[0m     \u001b[0mOIII_2321_calcEMIS\u001b[0m\u001b[0;34m[\u001b[0m\u001b[0;34mf\"T{Temperature[i]}\"\u001b[0m\u001b[0;34m]\u001b[0m\u001b[0;34m.\u001b[0m\u001b[0mappend\u001b[0m\u001b[0;34m(\u001b[0m\u001b[0mcalc\u001b[0m\u001b[0;34m)\u001b[0m\u001b[0;34m\u001b[0m\u001b[0;34m\u001b[0m\u001b[0m\n",
      "\u001b[0;31mNameError\u001b[0m: name 'OIIIfracs' is not defined"
     ]
    }
   ],
   "source": [
    "CIIIfracs=C3_Table.loc['CIII Probability'].values\n",
    "CIVfracs=C4_Table.loc['CIV Probability'].values\n",
    "\n",
    "edens=C3_Table.loc['e Density Log /cm^3'].values\n",
    "Temperature=np.arange(4,6.5,step=.5)\n",
    "#####\n",
    "CIII_977_calcEMIS={'T4.0':[],\n",
    "                    'T4.5':[],\n",
    "                    'T5.0':[],\n",
    "                    'T5.5':[],\n",
    "                    'T6.0':[]}\n",
    "CIII_977=[]\n",
    "for i in range(0,len(CIIIfracs)):\n",
    "    gOIIIground = 3    \n",
    "    YcalOIII=.0229 #different for differnt lines \n",
    "    EOIII2P3P = energyoftrans(977)\n",
    "    hDen=3.162300e-03\n",
    "    \n",
    "    nCIII=n_ion('O',hDen,CIIIfracs[i])\n",
    "    calc=Emist(edens[i],Temperature[i],YcalOIII,EOIII2P3P,gOIIIground,nCIII)\n",
    "    OIII_2321_calcEMIS[f\"T{Temperature[i]}\"].append(calc)\n",
    "    OIII_2321.append(calc)"
   ]
  },
  {
   "cell_type": "code",
   "execution_count": null,
   "metadata": {},
   "outputs": [],
   "source": []
  },
  {
   "cell_type": "code",
   "execution_count": 22,
   "metadata": {},
   "outputs": [],
   "source": [
    "from functions import energyoftrans,emist\n",
    "make='model4'\n",
    "GasPhase={'H' : 0.0000,  'He': -1.0000,  \n",
    "          'C' : -4.6108, 'N' : -5.0701,  \n",
    "          'O' :-4.3098, 'Na': -6.6696,  \n",
    "          'Mg': -5.4597, 'Si':-5.4597} #log(number densities of elements),relative to hydrogen abundance of unity\n",
    "#constants\n",
    "kboltz= 1.38065e-16 #(*cgs*)\n",
    "light = 2.99792e+18   #(* A s^-1 *)\n",
    "eVtoErg = 1.60218e-12\n",
    "hplanckerg = 6.626068e-27  #(* erg s *)\n",
    "hplanckeV = 4.135667e-15  #(* eV s *) \n",
    "def n_ion(ele,Hden,frac):\n",
    "    # ele : element serves as key for the GasPhase dict, string, solar abundance\n",
    "    # Hden : hydrogen number density\n",
    "    # frac : average probability abundance of ion across zones (OVI Frac)\n",
    "    Nele_Sol=10**(GasPhase[ele])\n",
    "    n_ion=frac*Hden*Nele_Sol\n",
    "    return n_ion"
   ]
  },
  {
   "cell_type": "code",
   "execution_count": 24,
   "metadata": {},
   "outputs": [],
   "source": [
    "C3_Table.to_csv('./DataTables/CIIITemp(3-7).csv',index=True)\n",
    "C4_Table.to_csv('./DataTables/CIVTemp(3-7).csv',index=True)"
   ]
  },
  {
   "cell_type": "code",
   "execution_count": 28,
   "metadata": {},
   "outputs": [],
   "source": []
  },
  {
   "cell_type": "code",
   "execution_count": null,
   "metadata": {},
   "outputs": [],
   "source": []
  }
 ],
 "metadata": {
  "kernelspec": {
   "display_name": "Python 3",
   "language": "python",
   "name": "python3"
  },
  "language_info": {
   "codemirror_mode": {
    "name": "ipython",
    "version": 3
   },
   "file_extension": ".py",
   "mimetype": "text/x-python",
   "name": "python",
   "nbconvert_exporter": "python",
   "pygments_lexer": "ipython3",
   "version": "3.7.5"
  }
 },
 "nbformat": 4,
 "nbformat_minor": 4
}
