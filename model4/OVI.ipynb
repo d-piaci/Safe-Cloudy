{
 "cells": [
  {
   "cell_type": "code",
   "execution_count": 1,
   "metadata": {},
   "outputs": [],
   "source": [
    "import pandas as pd\n",
    "import numpy as np\n",
    "make='model4'\n",
    "GasPhase={'H' : 0.0000,  'He': -1.0000,  \n",
    "          'C' : -4.6108, 'N' : -5.0701,  \n",
    "          'O' :-4.3098, 'Na': -6.6696,  \n",
    "          'Mg': -5.4597, 'Si':-5.4597} #log(number densities of elements),relative to hydrogen abundance of unity\n",
    "#constants\n",
    "kboltz= 1.38065e-16 #(*cgs*)\n",
    "light = 2.99792e+18   #(* A s^-1 *)\n",
    "eVtoErg = 1.60218e-12\n",
    "hplanckerg = 6.626068e-27  #(* erg s *)\n",
    "hplanckeV = 4.135667e-15  #(* eV s *) \n"
   ]
  },
  {
   "cell_type": "code",
   "execution_count": 518,
   "metadata": {},
   "outputs": [],
   "source": [
    "#returns ovr table with Temperature, Htot, hydrogen density, e density, and OVI density\n",
    "\n",
    "vari='.ovr'\n",
    "table=pd.read_csv('{0}{1}'.format(make, vari),delimiter='\t')\n",
    "ovr=table.loc[:,['#depth','Te','Htot','hden','eden','O5']]\n",
    "Temp=np.log10(ovr.loc[0,\"Te\"])\n",
    "#ovr"
   ]
  },
  {
   "cell_type": "code",
   "execution_count": 519,
   "metadata": {},
   "outputs": [],
   "source": [
    "#save some column densities \".col\"\n",
    "#hydrogen 2\n",
    "#oxygen 6\n",
    "#end of column densities"
   ]
  },
  {
   "cell_type": "code",
   "execution_count": 520,
   "metadata": {},
   "outputs": [
    {
     "data": {
      "text/html": [
       "<div>\n",
       "<style scoped>\n",
       "    .dataframe tbody tr th:only-of-type {\n",
       "        vertical-align: middle;\n",
       "    }\n",
       "\n",
       "    .dataframe tbody tr th {\n",
       "        vertical-align: top;\n",
       "    }\n",
       "\n",
       "    .dataframe thead th {\n",
       "        text-align: right;\n",
       "    }\n",
       "</style>\n",
       "<table border=\"1\" class=\"dataframe\">\n",
       "  <thead>\n",
       "    <tr style=\"text-align: right;\">\n",
       "      <th></th>\n",
       "      <th>#depth</th>\n",
       "      <th>H1-4861.33A</th>\n",
       "      <th>H1-6562.81A</th>\n",
       "      <th>O6-1031.91A</th>\n",
       "      <th>O6-1037.62A</th>\n",
       "    </tr>\n",
       "  </thead>\n",
       "  <tbody>\n",
       "    <tr>\n",
       "      <th>0</th>\n",
       "      <td>2.500000e+16</td>\n",
       "      <td>1.037800e-32</td>\n",
       "      <td>2.658100e-32</td>\n",
       "      <td>9.195100e-31</td>\n",
       "      <td>4.576300e-31</td>\n",
       "    </tr>\n",
       "    <tr>\n",
       "      <th>1</th>\n",
       "      <td>9.750000e+16</td>\n",
       "      <td>1.037800e-32</td>\n",
       "      <td>2.658200e-32</td>\n",
       "      <td>9.195100e-31</td>\n",
       "      <td>4.576300e-31</td>\n",
       "    </tr>\n",
       "    <tr>\n",
       "      <th>2</th>\n",
       "      <td>1.877500e+17</td>\n",
       "      <td>1.037800e-32</td>\n",
       "      <td>2.658200e-32</td>\n",
       "      <td>9.195200e-31</td>\n",
       "      <td>4.576400e-31</td>\n",
       "    </tr>\n",
       "    <tr>\n",
       "      <th>3</th>\n",
       "      <td>2.689750e+17</td>\n",
       "      <td>1.037800e-32</td>\n",
       "      <td>2.658200e-32</td>\n",
       "      <td>9.195200e-31</td>\n",
       "      <td>4.576400e-31</td>\n",
       "    </tr>\n",
       "    <tr>\n",
       "      <th>4</th>\n",
       "      <td>3.420780e+17</td>\n",
       "      <td>1.037800e-32</td>\n",
       "      <td>2.658200e-32</td>\n",
       "      <td>9.195200e-31</td>\n",
       "      <td>4.576400e-31</td>\n",
       "    </tr>\n",
       "    <tr>\n",
       "      <th>5</th>\n",
       "      <td>4.078700e+17</td>\n",
       "      <td>1.037800e-32</td>\n",
       "      <td>2.658200e-32</td>\n",
       "      <td>9.195200e-31</td>\n",
       "      <td>4.576400e-31</td>\n",
       "    </tr>\n",
       "    <tr>\n",
       "      <th>6</th>\n",
       "      <td>4.670830e+17</td>\n",
       "      <td>1.037800e-32</td>\n",
       "      <td>2.658200e-32</td>\n",
       "      <td>9.195200e-31</td>\n",
       "      <td>4.576400e-31</td>\n",
       "    </tr>\n",
       "    <tr>\n",
       "      <th>7</th>\n",
       "      <td>5.203750e+17</td>\n",
       "      <td>1.037800e-32</td>\n",
       "      <td>2.658200e-32</td>\n",
       "      <td>9.195200e-31</td>\n",
       "      <td>4.576400e-31</td>\n",
       "    </tr>\n",
       "    <tr>\n",
       "      <th>8</th>\n",
       "      <td>5.683370e+17</td>\n",
       "      <td>1.037800e-32</td>\n",
       "      <td>2.658200e-32</td>\n",
       "      <td>9.195200e-31</td>\n",
       "      <td>4.576400e-31</td>\n",
       "    </tr>\n",
       "    <tr>\n",
       "      <th>9</th>\n",
       "      <td>6.115040e+17</td>\n",
       "      <td>1.037800e-32</td>\n",
       "      <td>2.658200e-32</td>\n",
       "      <td>9.195200e-31</td>\n",
       "      <td>4.576400e-31</td>\n",
       "    </tr>\n",
       "    <tr>\n",
       "      <th>10</th>\n",
       "      <td>6.503530e+17</td>\n",
       "      <td>1.037800e-32</td>\n",
       "      <td>2.658200e-32</td>\n",
       "      <td>9.195200e-31</td>\n",
       "      <td>4.576400e-31</td>\n",
       "    </tr>\n",
       "    <tr>\n",
       "      <th>11</th>\n",
       "      <td>6.853180e+17</td>\n",
       "      <td>1.037800e-32</td>\n",
       "      <td>2.658200e-32</td>\n",
       "      <td>9.195200e-31</td>\n",
       "      <td>4.576400e-31</td>\n",
       "    </tr>\n",
       "    <tr>\n",
       "      <th>12</th>\n",
       "      <td>7.167860e+17</td>\n",
       "      <td>1.037800e-32</td>\n",
       "      <td>2.658200e-32</td>\n",
       "      <td>9.195200e-31</td>\n",
       "      <td>4.576400e-31</td>\n",
       "    </tr>\n",
       "    <tr>\n",
       "      <th>13</th>\n",
       "      <td>7.451080e+17</td>\n",
       "      <td>1.037800e-32</td>\n",
       "      <td>2.658200e-32</td>\n",
       "      <td>9.195200e-31</td>\n",
       "      <td>4.576400e-31</td>\n",
       "    </tr>\n",
       "    <tr>\n",
       "      <th>14</th>\n",
       "      <td>7.705970e+17</td>\n",
       "      <td>1.037800e-32</td>\n",
       "      <td>2.658200e-32</td>\n",
       "      <td>9.195200e-31</td>\n",
       "      <td>4.576400e-31</td>\n",
       "    </tr>\n",
       "    <tr>\n",
       "      <th>15</th>\n",
       "      <td>7.935370e+17</td>\n",
       "      <td>1.037800e-32</td>\n",
       "      <td>2.658200e-32</td>\n",
       "      <td>9.195200e-31</td>\n",
       "      <td>4.576400e-31</td>\n",
       "    </tr>\n",
       "    <tr>\n",
       "      <th>16</th>\n",
       "      <td>8.141830e+17</td>\n",
       "      <td>1.037800e-32</td>\n",
       "      <td>2.658200e-32</td>\n",
       "      <td>9.195200e-31</td>\n",
       "      <td>4.576400e-31</td>\n",
       "    </tr>\n",
       "    <tr>\n",
       "      <th>17</th>\n",
       "      <td>8.327650e+17</td>\n",
       "      <td>1.037800e-32</td>\n",
       "      <td>2.658200e-32</td>\n",
       "      <td>9.195200e-31</td>\n",
       "      <td>4.576400e-31</td>\n",
       "    </tr>\n",
       "    <tr>\n",
       "      <th>18</th>\n",
       "      <td>8.494890e+17</td>\n",
       "      <td>1.037800e-32</td>\n",
       "      <td>2.658200e-32</td>\n",
       "      <td>9.195200e-31</td>\n",
       "      <td>4.576400e-31</td>\n",
       "    </tr>\n",
       "    <tr>\n",
       "      <th>19</th>\n",
       "      <td>8.645400e+17</td>\n",
       "      <td>1.037800e-32</td>\n",
       "      <td>2.658200e-32</td>\n",
       "      <td>9.195200e-31</td>\n",
       "      <td>4.576400e-31</td>\n",
       "    </tr>\n",
       "    <tr>\n",
       "      <th>20</th>\n",
       "      <td>8.780860e+17</td>\n",
       "      <td>1.037800e-32</td>\n",
       "      <td>2.658200e-32</td>\n",
       "      <td>9.195200e-31</td>\n",
       "      <td>4.576400e-31</td>\n",
       "    </tr>\n",
       "    <tr>\n",
       "      <th>21</th>\n",
       "      <td>8.902770e+17</td>\n",
       "      <td>1.037800e-32</td>\n",
       "      <td>2.658200e-32</td>\n",
       "      <td>9.195200e-31</td>\n",
       "      <td>4.576400e-31</td>\n",
       "    </tr>\n",
       "    <tr>\n",
       "      <th>22</th>\n",
       "      <td>9.012500e+17</td>\n",
       "      <td>1.037800e-32</td>\n",
       "      <td>2.658200e-32</td>\n",
       "      <td>9.195200e-31</td>\n",
       "      <td>4.576400e-31</td>\n",
       "    </tr>\n",
       "    <tr>\n",
       "      <th>23</th>\n",
       "      <td>9.114470e+17</td>\n",
       "      <td>1.037800e-32</td>\n",
       "      <td>2.658200e-32</td>\n",
       "      <td>9.195200e-31</td>\n",
       "      <td>4.576400e-31</td>\n",
       "    </tr>\n",
       "    <tr>\n",
       "      <th>24</th>\n",
       "      <td>9.214470e+17</td>\n",
       "      <td>1.037800e-32</td>\n",
       "      <td>2.658200e-32</td>\n",
       "      <td>9.195200e-31</td>\n",
       "      <td>4.576400e-31</td>\n",
       "    </tr>\n",
       "    <tr>\n",
       "      <th>25</th>\n",
       "      <td>9.314470e+17</td>\n",
       "      <td>1.037800e-32</td>\n",
       "      <td>2.658200e-32</td>\n",
       "      <td>9.195200e-31</td>\n",
       "      <td>4.576400e-31</td>\n",
       "    </tr>\n",
       "    <tr>\n",
       "      <th>26</th>\n",
       "      <td>9.414470e+17</td>\n",
       "      <td>1.037800e-32</td>\n",
       "      <td>2.658200e-32</td>\n",
       "      <td>9.195200e-31</td>\n",
       "      <td>4.576400e-31</td>\n",
       "    </tr>\n",
       "    <tr>\n",
       "      <th>27</th>\n",
       "      <td>9.514470e+17</td>\n",
       "      <td>1.037800e-32</td>\n",
       "      <td>2.658200e-32</td>\n",
       "      <td>9.195200e-31</td>\n",
       "      <td>4.576400e-31</td>\n",
       "    </tr>\n",
       "    <tr>\n",
       "      <th>28</th>\n",
       "      <td>9.614470e+17</td>\n",
       "      <td>1.037800e-32</td>\n",
       "      <td>2.658200e-32</td>\n",
       "      <td>9.195200e-31</td>\n",
       "      <td>4.576400e-31</td>\n",
       "    </tr>\n",
       "    <tr>\n",
       "      <th>29</th>\n",
       "      <td>9.714470e+17</td>\n",
       "      <td>1.037800e-32</td>\n",
       "      <td>2.658200e-32</td>\n",
       "      <td>9.195200e-31</td>\n",
       "      <td>4.576400e-31</td>\n",
       "    </tr>\n",
       "    <tr>\n",
       "      <th>30</th>\n",
       "      <td>9.814470e+17</td>\n",
       "      <td>1.037800e-32</td>\n",
       "      <td>2.658200e-32</td>\n",
       "      <td>9.195200e-31</td>\n",
       "      <td>4.576400e-31</td>\n",
       "    </tr>\n",
       "    <tr>\n",
       "      <th>31</th>\n",
       "      <td>9.914470e+17</td>\n",
       "      <td>1.037800e-32</td>\n",
       "      <td>2.658200e-32</td>\n",
       "      <td>9.195200e-31</td>\n",
       "      <td>4.576400e-31</td>\n",
       "    </tr>\n",
       "    <tr>\n",
       "      <th>32</th>\n",
       "      <td>9.982240e+17</td>\n",
       "      <td>1.037800e-32</td>\n",
       "      <td>2.658200e-32</td>\n",
       "      <td>9.195200e-31</td>\n",
       "      <td>4.576400e-31</td>\n",
       "    </tr>\n",
       "  </tbody>\n",
       "</table>\n",
       "</div>"
      ],
      "text/plain": [
       "          #depth   H1-4861.33A   H1-6562.81A   O6-1031.91A   O6-1037.62A\n",
       "0   2.500000e+16  1.037800e-32  2.658100e-32  9.195100e-31  4.576300e-31\n",
       "1   9.750000e+16  1.037800e-32  2.658200e-32  9.195100e-31  4.576300e-31\n",
       "2   1.877500e+17  1.037800e-32  2.658200e-32  9.195200e-31  4.576400e-31\n",
       "3   2.689750e+17  1.037800e-32  2.658200e-32  9.195200e-31  4.576400e-31\n",
       "4   3.420780e+17  1.037800e-32  2.658200e-32  9.195200e-31  4.576400e-31\n",
       "5   4.078700e+17  1.037800e-32  2.658200e-32  9.195200e-31  4.576400e-31\n",
       "6   4.670830e+17  1.037800e-32  2.658200e-32  9.195200e-31  4.576400e-31\n",
       "7   5.203750e+17  1.037800e-32  2.658200e-32  9.195200e-31  4.576400e-31\n",
       "8   5.683370e+17  1.037800e-32  2.658200e-32  9.195200e-31  4.576400e-31\n",
       "9   6.115040e+17  1.037800e-32  2.658200e-32  9.195200e-31  4.576400e-31\n",
       "10  6.503530e+17  1.037800e-32  2.658200e-32  9.195200e-31  4.576400e-31\n",
       "11  6.853180e+17  1.037800e-32  2.658200e-32  9.195200e-31  4.576400e-31\n",
       "12  7.167860e+17  1.037800e-32  2.658200e-32  9.195200e-31  4.576400e-31\n",
       "13  7.451080e+17  1.037800e-32  2.658200e-32  9.195200e-31  4.576400e-31\n",
       "14  7.705970e+17  1.037800e-32  2.658200e-32  9.195200e-31  4.576400e-31\n",
       "15  7.935370e+17  1.037800e-32  2.658200e-32  9.195200e-31  4.576400e-31\n",
       "16  8.141830e+17  1.037800e-32  2.658200e-32  9.195200e-31  4.576400e-31\n",
       "17  8.327650e+17  1.037800e-32  2.658200e-32  9.195200e-31  4.576400e-31\n",
       "18  8.494890e+17  1.037800e-32  2.658200e-32  9.195200e-31  4.576400e-31\n",
       "19  8.645400e+17  1.037800e-32  2.658200e-32  9.195200e-31  4.576400e-31\n",
       "20  8.780860e+17  1.037800e-32  2.658200e-32  9.195200e-31  4.576400e-31\n",
       "21  8.902770e+17  1.037800e-32  2.658200e-32  9.195200e-31  4.576400e-31\n",
       "22  9.012500e+17  1.037800e-32  2.658200e-32  9.195200e-31  4.576400e-31\n",
       "23  9.114470e+17  1.037800e-32  2.658200e-32  9.195200e-31  4.576400e-31\n",
       "24  9.214470e+17  1.037800e-32  2.658200e-32  9.195200e-31  4.576400e-31\n",
       "25  9.314470e+17  1.037800e-32  2.658200e-32  9.195200e-31  4.576400e-31\n",
       "26  9.414470e+17  1.037800e-32  2.658200e-32  9.195200e-31  4.576400e-31\n",
       "27  9.514470e+17  1.037800e-32  2.658200e-32  9.195200e-31  4.576400e-31\n",
       "28  9.614470e+17  1.037800e-32  2.658200e-32  9.195200e-31  4.576400e-31\n",
       "29  9.714470e+17  1.037800e-32  2.658200e-32  9.195200e-31  4.576400e-31\n",
       "30  9.814470e+17  1.037800e-32  2.658200e-32  9.195200e-31  4.576400e-31\n",
       "31  9.914470e+17  1.037800e-32  2.658200e-32  9.195200e-31  4.576400e-31\n",
       "32  9.982240e+17  1.037800e-32  2.658200e-32  9.195200e-31  4.576400e-31"
      ]
     },
     "execution_count": 520,
     "metadata": {},
     "output_type": "execute_result"
    }
   ],
   "source": [
    "#returns emis table with Emissivity of H 1 4861.33A, H 1 6562.81A, O 6 1031.00A, O 6 1037.62A\n",
    "\n",
    "vari='.emis'\n",
    "emis=pd.read_csv('{0}{1}'.format(make, vari),delimiter='\t')\n",
    "emis.columns=['#depth','H1-4861.33A', 'H1-6562.81A', 'O6-1031.91A','O6-1037.62A']\n",
    "\n",
    "\n",
    "#isolates the 1031 and 1037 lines as independent tables\n",
    "tenthirtyone= emis.loc[:,'O6-1031.91A'] \n",
    "tenthirtyseven= emis.loc[:,'O6-1037.62A']\n",
    "\n",
    "#tenthirtyone\n",
    "#tenthirtyseven\n",
    "emis"
   ]
  },
  {
   "cell_type": "code",
   "execution_count": 521,
   "metadata": {},
   "outputs": [],
   "source": [
    "#returns eleH table with H\tH+\tH2 probabilites for each zone\n",
    "\n",
    "vari='.ele_H'\n",
    "eleH=pd.read_csv('{0}{1}'.format(make, vari),delimiter='\t')\n",
    "#print(eleH)\n",
    "#returns eleO table with O\tO+\tO+2\tO+3\tO+4\tO+5\tO+6\tO+7\tO+8\tO[1]\tO[2]\tO[3] probabilites for each zone\n",
    "vari='.ele_O'\n",
    "eleO=pd.read_csv('{0}{1}'.format(make,vari),delimiter='\t')\n",
    "#eleO"
   ]
  },
  {
   "cell_type": "code",
   "execution_count": 522,
   "metadata": {},
   "outputs": [
    {
     "data": {
      "text/html": [
       "<div>\n",
       "<style scoped>\n",
       "    .dataframe tbody tr th:only-of-type {\n",
       "        vertical-align: middle;\n",
       "    }\n",
       "\n",
       "    .dataframe tbody tr th {\n",
       "        vertical-align: top;\n",
       "    }\n",
       "\n",
       "    .dataframe thead th {\n",
       "        text-align: right;\n",
       "    }\n",
       "</style>\n",
       "<table border=\"1\" class=\"dataframe\">\n",
       "  <thead>\n",
       "    <tr style=\"text-align: right;\">\n",
       "      <th></th>\n",
       "      <th>#depth</th>\n",
       "      <th>O+5</th>\n",
       "    </tr>\n",
       "  </thead>\n",
       "  <tbody>\n",
       "    <tr>\n",
       "      <th>0</th>\n",
       "      <td>2.500000e+16</td>\n",
       "      <td>0.00441</td>\n",
       "    </tr>\n",
       "    <tr>\n",
       "      <th>1</th>\n",
       "      <td>9.750000e+16</td>\n",
       "      <td>0.00441</td>\n",
       "    </tr>\n",
       "    <tr>\n",
       "      <th>2</th>\n",
       "      <td>1.877500e+17</td>\n",
       "      <td>0.00441</td>\n",
       "    </tr>\n",
       "    <tr>\n",
       "      <th>3</th>\n",
       "      <td>2.689750e+17</td>\n",
       "      <td>0.00441</td>\n",
       "    </tr>\n",
       "    <tr>\n",
       "      <th>4</th>\n",
       "      <td>3.420780e+17</td>\n",
       "      <td>0.00441</td>\n",
       "    </tr>\n",
       "    <tr>\n",
       "      <th>5</th>\n",
       "      <td>4.078700e+17</td>\n",
       "      <td>0.00441</td>\n",
       "    </tr>\n",
       "    <tr>\n",
       "      <th>6</th>\n",
       "      <td>4.670830e+17</td>\n",
       "      <td>0.00441</td>\n",
       "    </tr>\n",
       "    <tr>\n",
       "      <th>7</th>\n",
       "      <td>5.203750e+17</td>\n",
       "      <td>0.00441</td>\n",
       "    </tr>\n",
       "    <tr>\n",
       "      <th>8</th>\n",
       "      <td>5.683370e+17</td>\n",
       "      <td>0.00441</td>\n",
       "    </tr>\n",
       "    <tr>\n",
       "      <th>9</th>\n",
       "      <td>6.115040e+17</td>\n",
       "      <td>0.00441</td>\n",
       "    </tr>\n",
       "    <tr>\n",
       "      <th>10</th>\n",
       "      <td>6.503530e+17</td>\n",
       "      <td>0.00441</td>\n",
       "    </tr>\n",
       "    <tr>\n",
       "      <th>11</th>\n",
       "      <td>6.853180e+17</td>\n",
       "      <td>0.00441</td>\n",
       "    </tr>\n",
       "    <tr>\n",
       "      <th>12</th>\n",
       "      <td>7.167860e+17</td>\n",
       "      <td>0.00441</td>\n",
       "    </tr>\n",
       "    <tr>\n",
       "      <th>13</th>\n",
       "      <td>7.451080e+17</td>\n",
       "      <td>0.00441</td>\n",
       "    </tr>\n",
       "    <tr>\n",
       "      <th>14</th>\n",
       "      <td>7.705970e+17</td>\n",
       "      <td>0.00441</td>\n",
       "    </tr>\n",
       "    <tr>\n",
       "      <th>15</th>\n",
       "      <td>7.935370e+17</td>\n",
       "      <td>0.00441</td>\n",
       "    </tr>\n",
       "    <tr>\n",
       "      <th>16</th>\n",
       "      <td>8.141830e+17</td>\n",
       "      <td>0.00441</td>\n",
       "    </tr>\n",
       "    <tr>\n",
       "      <th>17</th>\n",
       "      <td>8.327650e+17</td>\n",
       "      <td>0.00441</td>\n",
       "    </tr>\n",
       "    <tr>\n",
       "      <th>18</th>\n",
       "      <td>8.494890e+17</td>\n",
       "      <td>0.00441</td>\n",
       "    </tr>\n",
       "    <tr>\n",
       "      <th>19</th>\n",
       "      <td>8.645400e+17</td>\n",
       "      <td>0.00441</td>\n",
       "    </tr>\n",
       "    <tr>\n",
       "      <th>20</th>\n",
       "      <td>8.780860e+17</td>\n",
       "      <td>0.00441</td>\n",
       "    </tr>\n",
       "    <tr>\n",
       "      <th>21</th>\n",
       "      <td>8.902770e+17</td>\n",
       "      <td>0.00441</td>\n",
       "    </tr>\n",
       "    <tr>\n",
       "      <th>22</th>\n",
       "      <td>9.012500e+17</td>\n",
       "      <td>0.00441</td>\n",
       "    </tr>\n",
       "    <tr>\n",
       "      <th>23</th>\n",
       "      <td>9.114470e+17</td>\n",
       "      <td>0.00441</td>\n",
       "    </tr>\n",
       "    <tr>\n",
       "      <th>24</th>\n",
       "      <td>9.214470e+17</td>\n",
       "      <td>0.00441</td>\n",
       "    </tr>\n",
       "    <tr>\n",
       "      <th>25</th>\n",
       "      <td>9.314470e+17</td>\n",
       "      <td>0.00441</td>\n",
       "    </tr>\n",
       "    <tr>\n",
       "      <th>26</th>\n",
       "      <td>9.414470e+17</td>\n",
       "      <td>0.00441</td>\n",
       "    </tr>\n",
       "    <tr>\n",
       "      <th>27</th>\n",
       "      <td>9.514470e+17</td>\n",
       "      <td>0.00441</td>\n",
       "    </tr>\n",
       "    <tr>\n",
       "      <th>28</th>\n",
       "      <td>9.614470e+17</td>\n",
       "      <td>0.00441</td>\n",
       "    </tr>\n",
       "    <tr>\n",
       "      <th>29</th>\n",
       "      <td>9.714470e+17</td>\n",
       "      <td>0.00441</td>\n",
       "    </tr>\n",
       "    <tr>\n",
       "      <th>30</th>\n",
       "      <td>9.814470e+17</td>\n",
       "      <td>0.00441</td>\n",
       "    </tr>\n",
       "    <tr>\n",
       "      <th>31</th>\n",
       "      <td>9.914470e+17</td>\n",
       "      <td>0.00441</td>\n",
       "    </tr>\n",
       "    <tr>\n",
       "      <th>32</th>\n",
       "      <td>9.982240e+17</td>\n",
       "      <td>0.00441</td>\n",
       "    </tr>\n",
       "  </tbody>\n",
       "</table>\n",
       "</div>"
      ],
      "text/plain": [
       "          #depth      O+5\n",
       "0   2.500000e+16  0.00441\n",
       "1   9.750000e+16  0.00441\n",
       "2   1.877500e+17  0.00441\n",
       "3   2.689750e+17  0.00441\n",
       "4   3.420780e+17  0.00441\n",
       "5   4.078700e+17  0.00441\n",
       "6   4.670830e+17  0.00441\n",
       "7   5.203750e+17  0.00441\n",
       "8   5.683370e+17  0.00441\n",
       "9   6.115040e+17  0.00441\n",
       "10  6.503530e+17  0.00441\n",
       "11  6.853180e+17  0.00441\n",
       "12  7.167860e+17  0.00441\n",
       "13  7.451080e+17  0.00441\n",
       "14  7.705970e+17  0.00441\n",
       "15  7.935370e+17  0.00441\n",
       "16  8.141830e+17  0.00441\n",
       "17  8.327650e+17  0.00441\n",
       "18  8.494890e+17  0.00441\n",
       "19  8.645400e+17  0.00441\n",
       "20  8.780860e+17  0.00441\n",
       "21  8.902770e+17  0.00441\n",
       "22  9.012500e+17  0.00441\n",
       "23  9.114470e+17  0.00441\n",
       "24  9.214470e+17  0.00441\n",
       "25  9.314470e+17  0.00441\n",
       "26  9.414470e+17  0.00441\n",
       "27  9.514470e+17  0.00441\n",
       "28  9.614470e+17  0.00441\n",
       "29  9.714470e+17  0.00441\n",
       "30  9.814470e+17  0.00441\n",
       "31  9.914470e+17  0.00441\n",
       "32  9.982240e+17  0.00441"
      ]
     },
     "execution_count": 522,
     "metadata": {},
     "output_type": "execute_result"
    }
   ],
   "source": [
    "#returns table OVI_prob with OVI probabilites for each zone\n",
    "\n",
    "OVI_prob = eleO.loc[:,['#depth', 'O+5']]\n",
    "OVI_prob"
   ]
  },
  {
   "cell_type": "code",
   "execution_count": 523,
   "metadata": {},
   "outputs": [
    {
     "name": "stdout",
     "output_type": "stream",
     "text": [
      "The OVI fraction is 0.00441\n",
      "The electron density is 0.0037967909090909097\n",
      "The emissivity of OVI1031 is 9.19519393939394e-31\n",
      "The emissivity of OVI1037 is 4.57639393939394e-31\n"
     ]
    }
   ],
   "source": [
    "#returns single float of each value\n",
    "\n",
    "O6frac=np.average(OVI_prob.loc[:,'O+5'].values)\n",
    "O6fracsingular=(OVI_prob.loc[:,'O+5'].values).max()\n",
    "#O6total=np.average(ovr.loc[:,'eden'].values)\n",
    "eden=np.average(ovr.loc[:,'eden'].values)\n",
    "emis1031=np.average(tenthirtyone.values)\n",
    "emis1037=np.average(tenthirtyseven.values)\n",
    "hden=np.average(ovr.loc[:,'hden'].values)\n",
    "emis1031singular=(tenthirtyone.values).max()\n",
    "emis1037singular=(tenthirtyseven.values).max()\n",
    "\n",
    "print('The OVI fraction is',O6frac)\n",
    "#print('OVI total is',O6total)\n",
    "print('The electron density is',eden)\n",
    "print('The emissivity of OVI1031 is',emis1031)\n",
    "print('The emissivity of OVI1037 is',emis1037)"
   ]
  },
  {
   "cell_type": "code",
   "execution_count": 524,
   "metadata": {},
   "outputs": [
    {
     "name": "stdout",
     "output_type": "stream",
     "text": [
      "nOVI is 2.1609195045181695e-08\n",
      "Column density of OVI is 21030587238.65191\n"
     ]
    }
   ],
   "source": [
    "#number of oxygnVI\n",
    "Noxy_Sol=10**-4.3098\n",
    "Zsol=10**-1\n",
    "nOVI=O6frac*Zsol*Noxy_Sol\n",
    "print('nOVI is',nOVI)\n",
    "length=ovr.loc[:,\"#depth\"].max() -  ovr.loc[:,\"#depth\"].min()\n",
    "N_OVI=nOVI*length\n",
    "print('Column density of OVI is',N_OVI)"
   ]
  },
  {
   "cell_type": "code",
   "execution_count": 525,
   "metadata": {},
   "outputs": [],
   "source": [
    "#MassTot 7.40e-09  (gm/cm^2) ???"
   ]
  },
  {
   "cell_type": "code",
   "execution_count": 526,
   "metadata": {},
   "outputs": [
    {
     "data": {
      "text/plain": [
       "1.0665641061413927e-13"
      ]
     },
     "execution_count": 526,
     "metadata": {},
     "output_type": "execute_result"
    }
   ],
   "source": [
    "#intensity\n",
    "inten= ((emis1031+emis1037) * length )/(4*np.pi)\n",
    "inten"
   ]
  },
  {
   "cell_type": "code",
   "execution_count": 527,
   "metadata": {},
   "outputs": [
    {
     "name": "stdout",
     "output_type": "stream",
     "text": [
      "For temperature base 10 to the 6.0 power we get:\n",
      "OVI fraction: 0.00441\n",
      "electron density: 0.0037967909090909097\n",
      "hydrogren density: 0.0031623000000000003\n"
     ]
    }
   ],
   "source": [
    "#overall values\n",
    "print('For temperature base 10 to the',Temp,'power we get:')\n",
    "print('OVI fraction:',O6frac)\n",
    "print('electron density:',eden)\n",
    "print('hydrogren density:',hden)"
   ]
  },
  {
   "cell_type": "code",
   "execution_count": 528,
   "metadata": {},
   "outputs": [
    {
     "name": "stdout",
     "output_type": "stream",
     "text": [
      "For temperature base 10 to the 6.0 power we get:\n",
      "OVI fraction: 0.00441\n",
      "electron density: 0.0037967909090909097\n",
      "hydrogren density: 0.0031623000000000003\n"
     ]
    }
   ],
   "source": [
    "#overall values\n",
    "print('For temperature base 10 to the',Temp,'power we get:')\n",
    "print('OVI fraction:',O6frac)\n",
    "print('electron density:',eden)\n",
    "print('hydrogren density:',hden)"
   ]
  },
  {
   "cell_type": "code",
   "execution_count": 529,
   "metadata": {},
   "outputs": [],
   "source": [
    "SimuDatKeyset=['H Density Log /cm^3','e Density Log /cm^3','OVI Probability','OVI 1031 Emis', 'OVI 1037 Emis',\"Total Emis\"]\n",
    "SimnDat=[hden, eden,O6frac,emis1031,emis1037,emis1031+emis1037]\n",
    "matrix={SimuDatKeyset[0]:[SimnDat[0]],SimuDatKeyset[1]:[SimnDat[1]],SimuDatKeyset[2]:[SimnDat[2]],SimuDatKeyset[3]:[SimnDat[3]],SimuDatKeyset[4]:[SimnDat[4]],SimuDatKeyset[5]:[SimnDat[5]]}\n"
   ]
  },
  {
   "cell_type": "code",
   "execution_count": 530,
   "metadata": {},
   "outputs": [
    {
     "data": {
      "text/plain": [
       "[0.0031623000000000003,\n",
       " 0.0037967909090909097,\n",
       " 0.00441,\n",
       " 9.19519393939394e-31,\n",
       " 4.57639393939394e-31,\n",
       " 1.377158787878788e-30]"
      ]
     },
     "execution_count": 530,
     "metadata": {},
     "output_type": "execute_result"
    }
   ],
   "source": [
    "\n",
    "SimnDat"
   ]
  },
  {
   "cell_type": "code",
   "execution_count": 479,
   "metadata": {},
   "outputs": [
    {
     "data": {
      "text/plain": [
       "[0.0031623000000000003,\n",
       " 0.0034705181818181817,\n",
       " 6.88e-08,\n",
       " 7.1066e-37,\n",
       " 3.6229e-37,\n",
       " 1.07295e-36]"
      ]
     },
     "execution_count": 479,
     "metadata": {},
     "output_type": "execute_result"
    }
   ],
   "source": [
    "SimnDatrev=[hden, eden,O6fracsingular,emis1031singular,emis1037singular,emis1031singular+emis1037singular]\n",
    "SimnDatrev"
   ]
  },
  {
   "cell_type": "markdown",
   "metadata": {},
   "source": [
    "# SAVE"
   ]
  },
  {
   "cell_type": "code",
   "execution_count": 463,
   "metadata": {},
   "outputs": [
    {
     "data": {
      "text/html": [
       "<div>\n",
       "<style scoped>\n",
       "    .dataframe tbody tr th:only-of-type {\n",
       "        vertical-align: middle;\n",
       "    }\n",
       "\n",
       "    .dataframe tbody tr th {\n",
       "        vertical-align: top;\n",
       "    }\n",
       "\n",
       "    .dataframe thead th {\n",
       "        text-align: right;\n",
       "    }\n",
       "</style>\n",
       "<table border=\"1\" class=\"dataframe\">\n",
       "  <thead>\n",
       "    <tr style=\"text-align: right;\">\n",
       "      <th></th>\n",
       "      <th>Temp:1e4.0 K , hden: -2.5</th>\n",
       "    </tr>\n",
       "  </thead>\n",
       "  <tbody>\n",
       "    <tr>\n",
       "      <th>H Density Log /cm^3</th>\n",
       "      <td>3.162300e-03</td>\n",
       "    </tr>\n",
       "    <tr>\n",
       "      <th>e Density Log /cm^3</th>\n",
       "      <td>3.211145e-03</td>\n",
       "    </tr>\n",
       "    <tr>\n",
       "      <th>OVI Probability</th>\n",
       "      <td>3.484848e-12</td>\n",
       "    </tr>\n",
       "    <tr>\n",
       "      <th>OVI 1031 Emis</th>\n",
       "      <td>2.168697e-43</td>\n",
       "    </tr>\n",
       "    <tr>\n",
       "      <th>OVI 1037 Emis</th>\n",
       "      <td>1.087182e-43</td>\n",
       "    </tr>\n",
       "    <tr>\n",
       "      <th>Total Emis</th>\n",
       "      <td>3.255879e-43</td>\n",
       "    </tr>\n",
       "  </tbody>\n",
       "</table>\n",
       "</div>"
      ],
      "text/plain": [
       "                     Temp:1e4.0 K , hden: -2.5\n",
       "H Density Log /cm^3               3.162300e-03\n",
       "e Density Log /cm^3               3.211145e-03\n",
       "OVI Probability                   3.484848e-12\n",
       "OVI 1031 Emis                     2.168697e-43\n",
       "OVI 1037 Emis                     1.087182e-43\n",
       "Total Emis                        3.255879e-43"
      ]
     },
     "execution_count": 463,
     "metadata": {},
     "output_type": "execute_result"
    }
   ],
   "source": [
    "meta=pd.DataFrame(data=matrix,index={f\"Temp:1e{Temp:1.1f} K , hden: {np.log10(hden):1.1f}\"}).transpose()\n",
    "#meta.rename(index={'Temp'})\n",
    "meta"
   ]
  },
  {
   "cell_type": "code",
   "execution_count": 188,
   "metadata": {},
   "outputs": [
    {
     "data": {
      "text/plain": [
       "[0.0031623000000000003,\n",
       " 0.0034705181818181817,\n",
       " 2.0848484848484846e-09,\n",
       " 1.07295e-36]"
      ]
     },
     "execution_count": 188,
     "metadata": {},
     "output_type": "execute_result"
    }
   ],
   "source": [
    "SimnDat=[hden, eden,O6frac,emis1031+emis1037]\n",
    "SimnDat"
   ]
  },
  {
   "cell_type": "code",
   "execution_count": 481,
   "metadata": {},
   "outputs": [],
   "source": [
    "location=0"
   ]
  },
  {
   "cell_type": "code",
   "execution_count": 531,
   "metadata": {},
   "outputs": [],
   "source": [
    "location=location+1\n",
    "meta.insert(location,f\"Temp:1e{Temp:1.1f} K , hden: {np.log10(hden):1.1f}\",SimnDat)"
   ]
  },
  {
   "cell_type": "code",
   "execution_count": 532,
   "metadata": {},
   "outputs": [
    {
     "data": {
      "text/html": [
       "<div>\n",
       "<style scoped>\n",
       "    .dataframe tbody tr th:only-of-type {\n",
       "        vertical-align: middle;\n",
       "    }\n",
       "\n",
       "    .dataframe tbody tr th {\n",
       "        vertical-align: top;\n",
       "    }\n",
       "\n",
       "    .dataframe thead th {\n",
       "        text-align: right;\n",
       "    }\n",
       "</style>\n",
       "<table border=\"1\" class=\"dataframe\">\n",
       "  <thead>\n",
       "    <tr style=\"text-align: right;\">\n",
       "      <th></th>\n",
       "      <th>Temp:1e4.0 K , hden: -2.5</th>\n",
       "      <th>Temp:1e4.5 K , hden: -2.5</th>\n",
       "      <th>Temp:1e5.0 K , hden: -2.5</th>\n",
       "      <th>Temp:1e5.5 K , hden: -2.5</th>\n",
       "      <th>Temp:1e6.0 K , hden: -2.5</th>\n",
       "    </tr>\n",
       "  </thead>\n",
       "  <tbody>\n",
       "    <tr>\n",
       "      <th>H Density Log /cm^3</th>\n",
       "      <td>3.162300e-03</td>\n",
       "      <td>3.162300e-03</td>\n",
       "      <td>3.162300e-03</td>\n",
       "      <td>3.162300e-03</td>\n",
       "      <td>3.162300e-03</td>\n",
       "    </tr>\n",
       "    <tr>\n",
       "      <th>e Density Log /cm^3</th>\n",
       "      <td>3.211145e-03</td>\n",
       "      <td>3.470518e-03</td>\n",
       "      <td>3.779224e-03</td>\n",
       "      <td>3.796200e-03</td>\n",
       "      <td>3.796791e-03</td>\n",
       "    </tr>\n",
       "    <tr>\n",
       "      <th>OVI Probability</th>\n",
       "      <td>3.484848e-12</td>\n",
       "      <td>6.880000e-08</td>\n",
       "      <td>2.950000e-03</td>\n",
       "      <td>2.150000e-01</td>\n",
       "      <td>4.410000e-03</td>\n",
       "    </tr>\n",
       "    <tr>\n",
       "      <th>OVI 1031 Emis</th>\n",
       "      <td>2.168697e-43</td>\n",
       "      <td>7.106600e-37</td>\n",
       "      <td>4.132082e-31</td>\n",
       "      <td>4.816815e-29</td>\n",
       "      <td>9.195194e-31</td>\n",
       "    </tr>\n",
       "    <tr>\n",
       "      <th>OVI 1037 Emis</th>\n",
       "      <td>1.087182e-43</td>\n",
       "      <td>3.622900e-37</td>\n",
       "      <td>2.070488e-31</td>\n",
       "      <td>2.400894e-29</td>\n",
       "      <td>4.576394e-31</td>\n",
       "    </tr>\n",
       "    <tr>\n",
       "      <th>Total Emis</th>\n",
       "      <td>3.255879e-43</td>\n",
       "      <td>1.072950e-36</td>\n",
       "      <td>6.202570e-31</td>\n",
       "      <td>7.217709e-29</td>\n",
       "      <td>1.377159e-30</td>\n",
       "    </tr>\n",
       "  </tbody>\n",
       "</table>\n",
       "</div>"
      ],
      "text/plain": [
       "                     Temp:1e4.0 K , hden: -2.5  Temp:1e4.5 K , hden: -2.5  \\\n",
       "H Density Log /cm^3               3.162300e-03               3.162300e-03   \n",
       "e Density Log /cm^3               3.211145e-03               3.470518e-03   \n",
       "OVI Probability                   3.484848e-12               6.880000e-08   \n",
       "OVI 1031 Emis                     2.168697e-43               7.106600e-37   \n",
       "OVI 1037 Emis                     1.087182e-43               3.622900e-37   \n",
       "Total Emis                        3.255879e-43               1.072950e-36   \n",
       "\n",
       "                     Temp:1e5.0 K , hden: -2.5  Temp:1e5.5 K , hden: -2.5  \\\n",
       "H Density Log /cm^3               3.162300e-03               3.162300e-03   \n",
       "e Density Log /cm^3               3.779224e-03               3.796200e-03   \n",
       "OVI Probability                   2.950000e-03               2.150000e-01   \n",
       "OVI 1031 Emis                     4.132082e-31               4.816815e-29   \n",
       "OVI 1037 Emis                     2.070488e-31               2.400894e-29   \n",
       "Total Emis                        6.202570e-31               7.217709e-29   \n",
       "\n",
       "                     Temp:1e6.0 K , hden: -2.5  \n",
       "H Density Log /cm^3               3.162300e-03  \n",
       "e Density Log /cm^3               3.796791e-03  \n",
       "OVI Probability                   4.410000e-03  \n",
       "OVI 1031 Emis                     9.195194e-31  \n",
       "OVI 1037 Emis                     4.576394e-31  \n",
       "Total Emis                        1.377159e-30  "
      ]
     },
     "execution_count": 532,
     "metadata": {},
     "output_type": "execute_result"
    }
   ],
   "source": [
    "meta"
   ]
  },
  {
   "cell_type": "code",
   "execution_count": 536,
   "metadata": {},
   "outputs": [],
   "source": [
    "#meta.to_csv('./DataTables/OVIemis.csv',index=False)"
   ]
  },
  {
   "cell_type": "code",
   "execution_count": 543,
   "metadata": {},
   "outputs": [],
   "source": [
    "#pd.DataFrame(data=EmisMathematica, index={f\"OVI Mathematica emissivity (cgs)\"}).to_csv('./DataTables/OVIemis-Mathematica.csv',index=False)\n"
   ]
  },
  {
   "cell_type": "code",
   "execution_count": 445,
   "metadata": {},
   "outputs": [
    {
     "data": {
      "text/html": [
       "<div>\n",
       "<style scoped>\n",
       "    .dataframe tbody tr th:only-of-type {\n",
       "        vertical-align: middle;\n",
       "    }\n",
       "\n",
       "    .dataframe tbody tr th {\n",
       "        vertical-align: top;\n",
       "    }\n",
       "\n",
       "    .dataframe thead th {\n",
       "        text-align: right;\n",
       "    }\n",
       "</style>\n",
       "<table border=\"1\" class=\"dataframe\">\n",
       "  <thead>\n",
       "    <tr style=\"text-align: right;\">\n",
       "      <th></th>\n",
       "      <th>Temp:1e4.0 K , hden: -2.5</th>\n",
       "      <th>Temp:1e4.5 K , hden: -2.5</th>\n",
       "      <th>Temp:1e5.0 K , hden: -2.5</th>\n",
       "      <th>Temp:1e5.5 K , hden: -2.5</th>\n",
       "      <th>Temp:1e6.0 K , hden: -2.5</th>\n",
       "    </tr>\n",
       "  </thead>\n",
       "  <tbody>\n",
       "    <tr>\n",
       "      <th>H Density Log /cm^3</th>\n",
       "      <td>3.162300e-03</td>\n",
       "      <td>3.162300e-03</td>\n",
       "      <td>3.162300e-03</td>\n",
       "      <td>3.162300e-03</td>\n",
       "      <td>3.162300e-03</td>\n",
       "    </tr>\n",
       "    <tr>\n",
       "      <th>e Density Log /cm^3</th>\n",
       "      <td>3.211145e-03</td>\n",
       "      <td>3.470518e-03</td>\n",
       "      <td>3.779224e-03</td>\n",
       "      <td>3.796200e-03</td>\n",
       "      <td>3.796791e-03</td>\n",
       "    </tr>\n",
       "    <tr>\n",
       "      <th>OVI Probability</th>\n",
       "      <td>3.484848e-12</td>\n",
       "      <td>6.880000e-08</td>\n",
       "      <td>2.950000e-03</td>\n",
       "      <td>2.150000e-01</td>\n",
       "      <td>4.410000e-03</td>\n",
       "    </tr>\n",
       "    <tr>\n",
       "      <th>OVI 1031 Emis</th>\n",
       "      <td>2.168697e-43</td>\n",
       "      <td>7.106600e-37</td>\n",
       "      <td>4.132082e-31</td>\n",
       "      <td>4.816815e-29</td>\n",
       "      <td>9.195194e-31</td>\n",
       "    </tr>\n",
       "    <tr>\n",
       "      <th>OVI 1037 Emis</th>\n",
       "      <td>1.087182e-43</td>\n",
       "      <td>3.622900e-37</td>\n",
       "      <td>2.070488e-31</td>\n",
       "      <td>2.400894e-29</td>\n",
       "      <td>4.576394e-31</td>\n",
       "    </tr>\n",
       "  </tbody>\n",
       "</table>\n",
       "</div>"
      ],
      "text/plain": [
       "                     Temp:1e4.0 K , hden: -2.5  Temp:1e4.5 K , hden: -2.5  \\\n",
       "H Density Log /cm^3               3.162300e-03               3.162300e-03   \n",
       "e Density Log /cm^3               3.211145e-03               3.470518e-03   \n",
       "OVI Probability                   3.484848e-12               6.880000e-08   \n",
       "OVI 1031 Emis                     2.168697e-43               7.106600e-37   \n",
       "OVI 1037 Emis                     1.087182e-43               3.622900e-37   \n",
       "\n",
       "                     Temp:1e5.0 K , hden: -2.5  Temp:1e5.5 K , hden: -2.5  \\\n",
       "H Density Log /cm^3               3.162300e-03               3.162300e-03   \n",
       "e Density Log /cm^3               3.779224e-03               3.796200e-03   \n",
       "OVI Probability                   2.950000e-03               2.150000e-01   \n",
       "OVI 1031 Emis                     4.132082e-31               4.816815e-29   \n",
       "OVI 1037 Emis                     2.070488e-31               2.400894e-29   \n",
       "\n",
       "                     Temp:1e6.0 K , hden: -2.5  \n",
       "H Density Log /cm^3               3.162300e-03  \n",
       "e Density Log /cm^3               3.796791e-03  \n",
       "OVI Probability                   4.410000e-03  \n",
       "OVI 1031 Emis                     9.195194e-31  \n",
       "OVI 1037 Emis                     4.576394e-31  "
      ]
     },
     "execution_count": 445,
     "metadata": {},
     "output_type": "execute_result"
    }
   ],
   "source": [
    "sums=['Emis Sums',2.168697e-43+1.087182e-43,7.106600e-37+3.622900e-37,4.132082e-31+2.070488e-31,4.816815e-29+2.400894e-29,9.195194e-31+4.576394e-31]\n",
    "meta"
   ]
  },
  {
   "cell_type": "code",
   "execution_count": null,
   "metadata": {},
   "outputs": [],
   "source": [
    "keys=np.arange(242)\n",
    "collO5=pd.read_csv('~/nublado/c17.02/data/stout/o/o_5/o_5.coll',delimiter='\t',header=1,skipfooter=27965,index_col=False)\n",
    "collO5.set_index(keys,drop=False)"
   ]
  },
  {
   "cell_type": "code",
   "execution_count": null,
   "metadata": {},
   "outputs": [],
   "source": [
    "drops=np.arange(8.000,237.000,step=1)\n",
    "collO5.drop(index=drops)"
   ]
  },
  {
   "cell_type": "code",
   "execution_count": 107,
   "metadata": {},
   "outputs": [],
   "source": [
    "OVIdoublet_coll=collO5.loc[237]"
   ]
  },
  {
   "cell_type": "code",
   "execution_count": null,
   "metadata": {},
   "outputs": [],
   "source": [
    "nrgO5=pd.read_csv('~/nublado/c17.02/data/stout/o/o_5/o_5.nrg',delimiter='\t',header=1,skipfooter=8)"
   ]
  },
  {
   "cell_type": "code",
   "execution_count": 106,
   "metadata": {},
   "outputs": [],
   "source": [
    "keys=np.arange(241)\n",
    "nrgO5.set_index(keys,drop=False)\n",
    "OVIdoublet_nrg=nrgO5.iloc[[1,2]]"
   ]
  },
  {
   "cell_type": "code",
   "execution_count": null,
   "metadata": {},
   "outputs": [],
   "source": []
  },
  {
   "cell_type": "code",
   "execution_count": null,
   "metadata": {},
   "outputs": [],
   "source": [
    "temp=[0.000e+00 ,  1.429e-01  , 2.857e-01 ,  4.286e-01 ,  5.714e-01  , 7.143e-01  , 8.571e-01  , 1.000e+00]\n",
    "for i in range(len(temp)):\n",
    "    print(temp[i+1]/temp[i+2])"
   ]
  },
  {
   "cell_type": "code",
   "execution_count": null,
   "metadata": {},
   "outputs": [],
   "source": []
  },
  {
   "cell_type": "code",
   "execution_count": 6,
   "metadata": {},
   "outputs": [
    {
     "name": "stdout",
     "output_type": "stream",
     "text": [
      "7200.000000000001\n",
      "3.8573324964312685\n",
      "---\n",
      "26849.270877274972\n",
      "4.428932496431268\n",
      "---\n",
      "100030.51308504638\n",
      "5.000132496431268\n",
      "---\n",
      "373020.3252518349\n",
      "5.5717324964312684\n",
      "---\n",
      "1389736.603896895\n",
      "6.142932496431269\n",
      "---\n",
      "5182418.684179438\n",
      "6.714532496431269\n",
      "---\n",
      "19307786.880677275\n",
      "7.285732496431269\n",
      "---\n",
      "72000000.00000009\n",
      "7.857332496431269\n",
      "---\n"
     ]
    }
   ],
   "source": [
    "scal_temps=[0.000e+00 ,  1.429e-01  , 2.857e-01 ,  4.286e-01 ,  5.714e-01  , 7.143e-01  , 8.571e-01  , 1.000e+00]\n",
    "def unscal_temp(temp):\n",
    "    Tmax=7.20e7\n",
    "    Tmin=7.20e+03\n",
    "    #B=(1/4)*np.log(7.20e3)\n",
    "    T=10**((np.log10(Tmax/Tmin))*temp + np.log10(Tmin))\n",
    "    #T=np.exp(4*(temp+B))\n",
    "    return T\n",
    "for i in scal_temps:\n",
    "    print(unscal_temp(i))\n",
    "    print(np.log10(unscal_temp(i)))\n",
    "    print(\"---\")"
   ]
  },
  {
   "cell_type": "code",
   "execution_count": null,
   "metadata": {},
   "outputs": [],
   "source": []
  },
  {
   "cell_type": "code",
   "execution_count": 5,
   "metadata": {},
   "outputs": [],
   "source": [
    "def unscal_temp(temp):\n",
    "    Tmax=7.20e7\n",
    "    Tmin=7.20e+03\n",
    "    #B=(1/4)*np.log(7.20e3)\n",
    "    T=10**((np.log10(Tmax/Tmin))*temp + np.log10(Tmin))\n",
    "    #T=np.exp(4*(temp+B))\n",
    "    return T"
   ]
  },
  {
   "cell_type": "code",
   "execution_count": 432,
   "metadata": {},
   "outputs": [],
   "source": [
    "def energyoftrans(wave):\n",
    "    # wave : wavelength of photon in A\n",
    "    #returns energy of transiton in ergs\n",
    "    return (light/wave)*hplanckerg\n",
    "\n",
    "def n_ion(ele,Hden,frac):\n",
    "    # ele : element serves as key for the GasPhase dict, string, solar abundance\n",
    "    # Hden : hydrogen number density\n",
    "    # frac : average probability abundance of ion across zones (OVI Frac)\n",
    "    Nele_Sol=10**(GasPhase[ele])\n",
    "    n_ion=frac*Hden*Nele_Sol\n",
    "    return n_ion"
   ]
  },
  {
   "cell_type": "code",
   "execution_count": 277,
   "metadata": {},
   "outputs": [
    {
     "data": {
      "text/plain": [
       "96990.62226418"
      ]
     },
     "execution_count": 277,
     "metadata": {},
     "output_type": "execute_result"
    }
   ],
   "source": [
    "(energyoftrans(1031)/hplanckerg)/2.998e+10"
   ]
  },
  {
   "cell_type": "code",
   "execution_count": 284,
   "metadata": {},
   "outputs": [],
   "source": []
  },
  {
   "cell_type": "code",
   "execution_count": 441,
   "metadata": {},
   "outputs": [],
   "source": [
    "Emisloop={'T4':emis_T4,'T4.5':emis_T45,'T5':emis_T5,'T5.5':emis_T55,'T6':emis_T6}\n",
    "EmisMathematica={'T4':6.3289e-45,'T4.5':1.07699e-36,'T5':6.28005e-31,'T5.5':7.91665e-29,'T6':1.57663e-30}"
   ]
  },
  {
   "cell_type": "code",
   "execution_count": 433,
   "metadata": {},
   "outputs": [
    {
     "data": {
      "text/html": [
       "<div>\n",
       "<style scoped>\n",
       "    .dataframe tbody tr th:only-of-type {\n",
       "        vertical-align: middle;\n",
       "    }\n",
       "\n",
       "    .dataframe tbody tr th {\n",
       "        vertical-align: top;\n",
       "    }\n",
       "\n",
       "    .dataframe thead th {\n",
       "        text-align: right;\n",
       "    }\n",
       "</style>\n",
       "<table border=\"1\" class=\"dataframe\">\n",
       "  <thead>\n",
       "    <tr style=\"text-align: right;\">\n",
       "      <th></th>\n",
       "      <th>Temp:1e4.0 K , hden: -2.5</th>\n",
       "      <th>Temp:1e4.5 K , hden: -2.5</th>\n",
       "      <th>Temp:1e5.0 K , hden: -2.5</th>\n",
       "      <th>Temp:1e5.5 K , hden: -2.5</th>\n",
       "      <th>Temp:1e6.0 K , hden: -2.5</th>\n",
       "    </tr>\n",
       "  </thead>\n",
       "  <tbody>\n",
       "    <tr>\n",
       "      <th>H Density Log /cm^3</th>\n",
       "      <td>3.162300e-03</td>\n",
       "      <td>3.162300e-03</td>\n",
       "      <td>3.162300e-03</td>\n",
       "      <td>3.162300e-03</td>\n",
       "      <td>3.162300e-03</td>\n",
       "    </tr>\n",
       "    <tr>\n",
       "      <th>e Density Log /cm^3</th>\n",
       "      <td>3.211145e-03</td>\n",
       "      <td>3.470518e-03</td>\n",
       "      <td>3.779224e-03</td>\n",
       "      <td>3.796200e-03</td>\n",
       "      <td>3.796791e-03</td>\n",
       "    </tr>\n",
       "    <tr>\n",
       "      <th>OVI Probability</th>\n",
       "      <td>3.484848e-12</td>\n",
       "      <td>6.880000e-08</td>\n",
       "      <td>2.950000e-03</td>\n",
       "      <td>2.150000e-01</td>\n",
       "      <td>4.410000e-03</td>\n",
       "    </tr>\n",
       "    <tr>\n",
       "      <th>OVI 1031 Emis</th>\n",
       "      <td>2.168697e-43</td>\n",
       "      <td>7.106600e-37</td>\n",
       "      <td>4.132082e-31</td>\n",
       "      <td>4.816815e-29</td>\n",
       "      <td>9.195194e-31</td>\n",
       "    </tr>\n",
       "    <tr>\n",
       "      <th>OVI 1037 Emis</th>\n",
       "      <td>1.087182e-43</td>\n",
       "      <td>3.622900e-37</td>\n",
       "      <td>2.070488e-31</td>\n",
       "      <td>2.400894e-29</td>\n",
       "      <td>4.576394e-31</td>\n",
       "    </tr>\n",
       "  </tbody>\n",
       "</table>\n",
       "</div>"
      ],
      "text/plain": [
       "                     Temp:1e4.0 K , hden: -2.5  Temp:1e4.5 K , hden: -2.5  \\\n",
       "H Density Log /cm^3               3.162300e-03               3.162300e-03   \n",
       "e Density Log /cm^3               3.211145e-03               3.470518e-03   \n",
       "OVI Probability                   3.484848e-12               6.880000e-08   \n",
       "OVI 1031 Emis                     2.168697e-43               7.106600e-37   \n",
       "OVI 1037 Emis                     1.087182e-43               3.622900e-37   \n",
       "\n",
       "                     Temp:1e5.0 K , hden: -2.5  Temp:1e5.5 K , hden: -2.5  \\\n",
       "H Density Log /cm^3               3.162300e-03               3.162300e-03   \n",
       "e Density Log /cm^3               3.779224e-03               3.796200e-03   \n",
       "OVI Probability                   2.950000e-03               2.150000e-01   \n",
       "OVI 1031 Emis                     4.132082e-31               4.816815e-29   \n",
       "OVI 1037 Emis                     2.070488e-31               2.400894e-29   \n",
       "\n",
       "                     Temp:1e6.0 K , hden: -2.5  \n",
       "H Density Log /cm^3               3.162300e-03  \n",
       "e Density Log /cm^3               3.796791e-03  \n",
       "OVI Probability                   4.410000e-03  \n",
       "OVI 1031 Emis                     9.195194e-31  \n",
       "OVI 1037 Emis                     4.576394e-31  "
      ]
     },
     "execution_count": 433,
     "metadata": {},
     "output_type": "execute_result"
    }
   ],
   "source": [
    "meta"
   ]
  },
  {
   "cell_type": "code",
   "execution_count": 442,
   "metadata": {},
   "outputs": [
    {
     "data": {
      "text/plain": [
       "[3.255879e-43, 1.07295e-36, 6.20257e-31, 7.217709e-29, 1.3771588e-30]"
      ]
     },
     "execution_count": 442,
     "metadata": {},
     "output_type": "execute_result"
    }
   ],
   "source": [
    "sums"
   ]
  },
  {
   "cell_type": "code",
   "execution_count": 439,
   "metadata": {},
   "outputs": [
    {
     "data": {
      "text/plain": [
       "6.833475749137807e-10"
      ]
     },
     "execution_count": 439,
     "metadata": {},
     "output_type": "execute_result"
    }
   ],
   "source": [
    "n_ion('O',3.162300e-03,4.410000e-03)"
   ]
  },
  {
   "cell_type": "code",
   "execution_count": 325,
   "metadata": {},
   "outputs": [
    {
     "data": {
      "text/plain": [
       "[0.0031623000000000003,\n",
       " 0.0034705181818181817,\n",
       " 2.0848484848484846e-09,\n",
       " 3.2513636363636366e-38]"
      ]
     },
     "execution_count": 325,
     "metadata": {},
     "output_type": "execute_result"
    }
   ],
   "source": [
    "SimnDat"
   ]
  },
  {
   "cell_type": "code",
   "execution_count": null,
   "metadata": {},
   "outputs": [],
   "source": []
  }
 ],
 "metadata": {
  "kernelspec": {
   "display_name": "Python 3",
   "language": "python",
   "name": "python3"
  },
  "language_info": {
   "codemirror_mode": {
    "name": "ipython",
    "version": 3
   },
   "file_extension": ".py",
   "mimetype": "text/x-python",
   "name": "python",
   "nbconvert_exporter": "python",
   "pygments_lexer": "ipython3",
   "version": "3.7.5"
  }
 },
 "nbformat": 4,
 "nbformat_minor": 4
}
