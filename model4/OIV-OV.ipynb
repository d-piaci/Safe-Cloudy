{
 "cells": [
  {
   "cell_type": "code",
   "execution_count": 115,
   "metadata": {},
   "outputs": [],
   "source": [
    "import pandas as pd\n",
    "import numpy as np\n",
    "make='model4'"
   ]
  },
  {
   "cell_type": "code",
   "execution_count": 116,
   "metadata": {},
   "outputs": [],
   "source": [
    "#returns ovr table with Temperature, Htot, hydrogen density, e density, and OVI density\n",
    "\n",
    "vari='.ovr'\n",
    "table=pd.read_csv('{0}{1}'.format(make, vari),delimiter='\t')\n",
    "ovr=table.loc[:,['#depth','Te','Htot','hden','eden','O3']]\n",
    "Temp=np.log10(ovr.loc[0,\"Te\"])\n",
    "#ovr"
   ]
  },
  {
   "cell_type": "code",
   "execution_count": 117,
   "metadata": {},
   "outputs": [],
   "source": [
    "#returns emis table with Emissivity of H 1 4861.33A, H 1 6562.81A, O 6 1031.00A, O 6 1037.62A\n",
    "\n",
    "vari='.emis'\n",
    "emis=pd.read_csv('{0}{1}'.format(make, vari),delimiter='\t')\n",
    "#emis.columns=['#depth','H1-4861.33A', 'H1-6562.81A', 'O6-1031.91A','O6-1037.62A']\n",
    "emis.columns=['#depth','H1-4861.33A', 'H1-6562.81A','O3 2320.95A', 'O3 4958.91A', 'O3 5006.84A']\n",
    "\n",
    "#isolates the 1031 and 1037 lines as independent tables\n",
    "OIV_line4632= emis.loc[:,'O4 4632 A'] \n",
    "OIV_line1402=emis.loc[:,'O4 1402 A']\n",
    "OV_line \n",
    "\n",
    "#line4958\n",
    "#line5006\n",
    "#emis"
   ]
  },
  {
   "cell_type": "code",
   "execution_count": 118,
   "metadata": {},
   "outputs": [],
   "source": [
    "#returns eleH table with H\tH+\tH2 probabilites for each zone\n",
    "\n",
    "vari='.ele_H'\n",
    "eleH=pd.read_csv('{0}{1}'.format(make, vari),delimiter='\t')\n",
    "#print(eleH)\n",
    "#returns eleO table with O\tO+\tO+2\tO+3\tO+4\tO+5\tO+6\tO+7\tO+8\tO[1]\tO[2]\tO[3] probabilites for each zone\n",
    "vari='.ele_O'\n",
    "eleO=pd.read_csv('{0}{1}'.format(make,vari),delimiter='\t')\n",
    "#eleO\n",
    "\n",
    "\n",
    "#returns table OVI_prob with OVI probabilites for each zone\n",
    "\n",
    "OIII_prob = eleO.loc[:,['#depth', 'O+2']]\n",
    "#OIII_prob"
   ]
  },
  {
   "cell_type": "code",
   "execution_count": 119,
   "metadata": {},
   "outputs": [],
   "source": [
    "O3frac=np.average(OIII_prob.loc[:,'O+2'].values)\n",
    "eden=np.average(ovr.loc[:,'eden'].values)\n",
    "emis4958=np.average(line4958.values)\n",
    "emis5006=np.average(line5006.values)\n",
    "emis2320=np.average(line2320.values)\n",
    "hden=np.average(ovr.loc[:,'hden'].values)"
   ]
  },
  {
   "cell_type": "code",
   "execution_count": 120,
   "metadata": {},
   "outputs": [
    {
     "data": {
      "text/plain": [
       "3.938010064373992e-15"
      ]
     },
     "execution_count": 120,
     "metadata": {},
     "output_type": "execute_result"
    }
   ],
   "source": [
    "#intensity\n",
    "length=ovr.loc[:,\"#depth\"].max() -  ovr.loc[:,\"#depth\"].min() #check depth units\n",
    "inten= ((emis2320) * length )/(4*np.pi)\n",
    "inten"
   ]
  },
  {
   "cell_type": "code",
   "execution_count": 121,
   "metadata": {},
   "outputs": [
    {
     "name": "stdout",
     "output_type": "stream",
     "text": [
      "nOIII is 1.670915081724934e-06\n",
      "Column density of OVI is 1626174659496.667\n"
     ]
    }
   ],
   "source": [
    "#number of OIII\n",
    "Noxy_Sol=10**-4.3098\n",
    "Zsol=10**-1\n",
    "nOIII=O3frac*Zsol*Noxy_Sol\n",
    "print('nOIII is',nOIII)\n",
    "length=ovr.loc[:,\"#depth\"].max() -  ovr.loc[:,\"#depth\"].min()\n",
    "N_OIII=nOIII*length\n",
    "print('Column density of OVI is',N_OIII)\n",
    "\n",
    "#pd.read_csv('model4.out',skiprows=51,skipfooter=976,delimiter='  ')"
   ]
  },
  {
   "cell_type": "code",
   "execution_count": 122,
   "metadata": {},
   "outputs": [],
   "source": [
    "SimnDat=[hden, \n",
    "         eden,\n",
    "         O3frac,\n",
    "         emis2320,\n",
    "         emis4958,\n",
    "         emis5006]\n",
    "SimuDatKeyset=['H Density Log /cm^3',\n",
    "               'e Density Log /cm^3',\n",
    "               'OIII Probability',\n",
    "               'OIII 2321 Emis',\n",
    "               'OIII 4958 Emis', \n",
    "               'OIII 5006 Emis']\n",
    "matrix={SimuDatKeyset[0]:[SimnDat[0]],\n",
    "        SimuDatKeyset[1]:[SimnDat[1]],\n",
    "        SimuDatKeyset[2]:[SimnDat[2]],\n",
    "        SimuDatKeyset[3]:[SimnDat[3]],\n",
    "        SimuDatKeyset[4]:[SimnDat[4]],\n",
    "        SimuDatKeyset[5]:[SimnDat[5]]}"
   ]
  },
  {
   "cell_type": "code",
   "execution_count": 123,
   "metadata": {},
   "outputs": [
    {
     "name": "stdout",
     "output_type": "stream",
     "text": [
      "4.500003068051694\n"
     ]
    },
    {
     "data": {
      "text/plain": [
       "[0.0031623000000000003,\n",
       " 0.003736918181818182,\n",
       " 0.341,\n",
       " 5.084800000000001e-32,\n",
       " 1.121090909090909e-30,\n",
       " 3.344793939393939e-30]"
      ]
     },
     "execution_count": 123,
     "metadata": {},
     "output_type": "execute_result"
    }
   ],
   "source": [
    "print(Temp)\n",
    "SimnDat"
   ]
  },
  {
   "cell_type": "code",
   "execution_count": 113,
   "metadata": {},
   "outputs": [],
   "source": [
    "location=location+1\n",
    "meta.insert(location,f\"Temp:1e{Temp:1.1f} K , hden: {np.log10(hden):1.1f}\",SimnDat)"
   ]
  },
  {
   "cell_type": "code",
   "execution_count": 114,
   "metadata": {},
   "outputs": [
    {
     "data": {
      "text/html": [
       "<div>\n",
       "<style scoped>\n",
       "    .dataframe tbody tr th:only-of-type {\n",
       "        vertical-align: middle;\n",
       "    }\n",
       "\n",
       "    .dataframe tbody tr th {\n",
       "        vertical-align: top;\n",
       "    }\n",
       "\n",
       "    .dataframe thead th {\n",
       "        text-align: right;\n",
       "    }\n",
       "</style>\n",
       "<table border=\"1\" class=\"dataframe\">\n",
       "  <thead>\n",
       "    <tr style=\"text-align: right;\">\n",
       "      <th></th>\n",
       "      <th>Temp:1e3.0 K , hden: -2.5</th>\n",
       "      <th>Temp:1e4.0 K , hden: -2.5</th>\n",
       "      <th>Temp:1e5.0 K , hden: -2.5</th>\n",
       "      <th>Temp:1e5.5 K , hden: -2.5</th>\n",
       "      <th>Temp:1e6.0 K , hden: -2.5</th>\n",
       "      <th>Temp:1e7.0 K , hden: -2.5</th>\n",
       "    </tr>\n",
       "  </thead>\n",
       "  <tbody>\n",
       "    <tr>\n",
       "      <th>H Density Log /cm^3</th>\n",
       "      <td>3.162300e-03</td>\n",
       "      <td>3.162300e-03</td>\n",
       "      <td>3.162300e-03</td>\n",
       "      <td>3.162300e-03</td>\n",
       "      <td>3.162300e-03</td>\n",
       "      <td>3.162300e-03</td>\n",
       "    </tr>\n",
       "    <tr>\n",
       "      <th>e Density Log /cm^3</th>\n",
       "      <td>2.610970e-03</td>\n",
       "      <td>3.688852e-03</td>\n",
       "      <td>3.779224e-03</td>\n",
       "      <td>3.796200e-03</td>\n",
       "      <td>3.796791e-03</td>\n",
       "      <td>3.797497e-03</td>\n",
       "    </tr>\n",
       "    <tr>\n",
       "      <th>OIII Probability</th>\n",
       "      <td>1.931515e-02</td>\n",
       "      <td>4.660000e-01</td>\n",
       "      <td>4.590000e-01</td>\n",
       "      <td>4.190000e-04</td>\n",
       "      <td>1.590000e-10</td>\n",
       "      <td>6.606061e-21</td>\n",
       "    </tr>\n",
       "    <tr>\n",
       "      <th>OIII 2321 Emis</th>\n",
       "      <td>3.353294e-40</td>\n",
       "      <td>1.519115e-33</td>\n",
       "      <td>1.500309e-31</td>\n",
       "      <td>1.207400e-34</td>\n",
       "      <td>3.003288e-41</td>\n",
       "      <td>0.000000e+00</td>\n",
       "    </tr>\n",
       "    <tr>\n",
       "      <th>OIII 4958 Emis</th>\n",
       "      <td>1.535685e-39</td>\n",
       "      <td>3.104018e-31</td>\n",
       "      <td>1.707718e-30</td>\n",
       "      <td>1.165600e-33</td>\n",
       "      <td>2.801112e-40</td>\n",
       "      <td>0.000000e+00</td>\n",
       "    </tr>\n",
       "    <tr>\n",
       "      <th>OIII 5006 Emis</th>\n",
       "      <td>4.581797e-39</td>\n",
       "      <td>9.261061e-31</td>\n",
       "      <td>5.095142e-30</td>\n",
       "      <td>3.477700e-33</td>\n",
       "      <td>8.357403e-40</td>\n",
       "      <td>0.000000e+00</td>\n",
       "    </tr>\n",
       "  </tbody>\n",
       "</table>\n",
       "</div>"
      ],
      "text/plain": [
       "                     Temp:1e3.0 K , hden: -2.5  Temp:1e4.0 K , hden: -2.5  \\\n",
       "H Density Log /cm^3               3.162300e-03               3.162300e-03   \n",
       "e Density Log /cm^3               2.610970e-03               3.688852e-03   \n",
       "OIII Probability                  1.931515e-02               4.660000e-01   \n",
       "OIII 2321 Emis                    3.353294e-40               1.519115e-33   \n",
       "OIII 4958 Emis                    1.535685e-39               3.104018e-31   \n",
       "OIII 5006 Emis                    4.581797e-39               9.261061e-31   \n",
       "\n",
       "                     Temp:1e5.0 K , hden: -2.5  Temp:1e5.5 K , hden: -2.5  \\\n",
       "H Density Log /cm^3               3.162300e-03               3.162300e-03   \n",
       "e Density Log /cm^3               3.779224e-03               3.796200e-03   \n",
       "OIII Probability                  4.590000e-01               4.190000e-04   \n",
       "OIII 2321 Emis                    1.500309e-31               1.207400e-34   \n",
       "OIII 4958 Emis                    1.707718e-30               1.165600e-33   \n",
       "OIII 5006 Emis                    5.095142e-30               3.477700e-33   \n",
       "\n",
       "                     Temp:1e6.0 K , hden: -2.5  Temp:1e7.0 K , hden: -2.5  \n",
       "H Density Log /cm^3               3.162300e-03               3.162300e-03  \n",
       "e Density Log /cm^3               3.796791e-03               3.797497e-03  \n",
       "OIII Probability                  1.590000e-10               6.606061e-21  \n",
       "OIII 2321 Emis                    3.003288e-41               0.000000e+00  \n",
       "OIII 4958 Emis                    2.801112e-40               0.000000e+00  \n",
       "OIII 5006 Emis                    8.357403e-40               0.000000e+00  "
      ]
     },
     "execution_count": 114,
     "metadata": {},
     "output_type": "execute_result"
    }
   ],
   "source": [
    "meta #3.0 [factor=-2] on"
   ]
  },
  {
   "cell_type": "code",
   "execution_count": 34,
   "metadata": {},
   "outputs": [],
   "source": []
  },
  {
   "cell_type": "markdown",
   "metadata": {},
   "source": [
    "## Run once per line"
   ]
  },
  {
   "cell_type": "code",
   "execution_count": 57,
   "metadata": {},
   "outputs": [],
   "source": [
    "meta=pd.DataFrame(data=matrix,index={f\"Temp:1e{Temp:1.1f} K , hden: {np.log10(hden):1.1f}\"}).transpose()\n",
    "#meta.rename(index={'Temp'})\n"
   ]
  },
  {
   "cell_type": "code",
   "execution_count": 58,
   "metadata": {},
   "outputs": [],
   "source": [
    "location=0"
   ]
  },
  {
   "cell_type": "code",
   "execution_count": null,
   "metadata": {},
   "outputs": [],
   "source": []
  },
  {
   "cell_type": "code",
   "execution_count": 60,
   "metadata": {},
   "outputs": [],
   "source": [
    "meta.to_csv('./OIII-DataTables/OIIITemp(3-7)hden(const).csv',index=False)"
   ]
  },
  {
   "cell_type": "code",
   "execution_count": null,
   "metadata": {},
   "outputs": [],
   "source": []
  }
 ],
 "metadata": {
  "kernelspec": {
   "display_name": "Python 3",
   "language": "python",
   "name": "python3"
  },
  "language_info": {
   "codemirror_mode": {
    "name": "ipython",
    "version": 3
   },
   "file_extension": ".py",
   "mimetype": "text/x-python",
   "name": "python",
   "nbconvert_exporter": "python",
   "pygments_lexer": "ipython3",
   "version": "3.7.5"
  }
 },
 "nbformat": 4,
 "nbformat_minor": 4
}
