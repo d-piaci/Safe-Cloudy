{
 "cells": [
  {
   "cell_type": "code",
   "execution_count": 13,
   "metadata": {},
   "outputs": [],
   "source": [
    "import pandas as pd\n",
    "make='model_4'"
   ]
  },
  {
   "cell_type": "code",
   "execution_count": 28,
   "metadata": {},
   "outputs": [],
   "source": [
    "#returns ovr table with Temperature, Htot, hydrogen density, e density, and OVI density\n",
    "vari='.ovr'\n",
    "table=pd.read_csv('{0}{1}'.format(make, vari),delimiter='\t')\n",
    "ovr=table.loc[:,['#depth','Te','Htot','hden','eden','O5']]\n",
    "#ovr"
   ]
  },
  {
   "cell_type": "code",
   "execution_count": 29,
   "metadata": {},
   "outputs": [],
   "source": [
    "#returns emis table with Emissivity of H 1 4861.33A, H 1 6562.81A, O 6 1031.00A, O 6 1037.62A\n",
    "vari='.emis'\n",
    "emis=pd.read_csv('{0}{1}'.format(make, vari),delimiter='\t')\n",
    "#emis"
   ]
  },
  {
   "cell_type": "code",
   "execution_count": 35,
   "metadata": {},
   "outputs": [],
   "source": [
    "#returns eleH table with H\tH+\tH2 probabilites for each zone\n",
    "vari='.ele_H'\n",
    "eleH=pd.read_csv('{0}{1}'.format(make, vari),delimiter='\t')\n",
    "#print(eleH)\n",
    "#returns eleO table with O\tO+\tO+2\tO+3\tO+4\tO+5\tO+6\tO+7\tO+8\tO[1]\tO[2]\tO[3] probabilites for each zone\n",
    "vari='.ele_O'\n",
    "eleO=pd.read_csv('{0}{1}'.format(make,vari),delimiter='\t')\n",
    "#eleO"
   ]
  },
  {
   "cell_type": "code",
   "execution_count": 36,
   "metadata": {},
   "outputs": [],
   "source": [
    "#returns table OVI_prob with OVI probabilites for each zone\n",
    "OVI_prob = eleO.loc[:,['#depth', 'O+5']]\n",
    "#OVI_prob"
   ]
  },
  {
   "cell_type": "code",
   "execution_count": null,
   "metadata": {},
   "outputs": [],
   "source": []
  }
 ],
 "metadata": {
  "kernelspec": {
   "display_name": "Python 3",
   "language": "python",
   "name": "python3"
  },
  "language_info": {
   "codemirror_mode": {
    "name": "ipython",
    "version": 3
   },
   "file_extension": ".py",
   "mimetype": "text/x-python",
   "name": "python",
   "nbconvert_exporter": "python",
   "pygments_lexer": "ipython3",
   "version": "3.7.5"
  }
 },
 "nbformat": 4,
 "nbformat_minor": 4
}
